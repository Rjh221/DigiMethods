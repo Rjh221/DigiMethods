{
 "cells": [
  {
   "cell_type": "markdown",
   "metadata": {},
   "source": [
    "# Exercise 4: APIs and Functions II \n",
    "\n",
    "## 4.1 Using the Twitter API to collect data"
   ]
  },
  {
   "cell_type": "markdown",
   "metadata": {},
   "source": [
    "**4.1.1** Find the Twitter account of the University of Copenhagen's Faculty of Social Science _by hand_ and get their Twitter account information using `tweepy` functionality. Remember that you just started a new Jupyter Notebook, so you will have to load the necessary modules and set up your authentication with the Twitter API. "
   ]
  },
  {
   "cell_type": "code",
   "execution_count": 9,
   "metadata": {},
   "outputs": [],
   "source": [
    "# SETUP\n",
    "import tweepy\n",
    "\n",
    "# set up authentication for twitter\n",
    "# first, use tweep OAuthHandler function to generate authentification object\n",
    "from AppCred import CONSUMER_KEY, CONSUMER_SECRET\n",
    "from AppCred import ACCESS_TOKEN, ACCESS_TOKEN_SECRET\n",
    "auth = tweepy.OAuthHandler(CONSUMER_KEY, CONSUMER_SECRET)\n",
    "# second, add access token and secret to authentification object\n",
    "auth.set_access_token(ACCESS_TOKEN, ACCESS_TOKEN_SECRET)\n",
    "# finally, generate variable to interact with twitter API\n",
    "api = tweepy.API(auth)"
   ]
  },
  {
   "cell_type": "code",
   "execution_count": 14,
   "metadata": {},
   "outputs": [],
   "source": [
    "# getting KU SAMF account\n",
    "kusamf_timeline = api.get_user(\"KuSamf\")\n",
    "HrEmilKA_timeline = api.get_user(\"HrEmilKA\")\n"
   ]
  },
  {
   "cell_type": "markdown",
   "metadata": {},
   "source": [
    "**4.1.2** When was this account created? Try to use the `str` and `print` commands to respond with a complete sentence."
   ]
  },
  {
   "cell_type": "code",
   "execution_count": 23,
   "metadata": {
    "scrolled": true
   },
   "outputs": [
    {
     "name": "stdout",
     "output_type": "stream",
     "text": [
      "The account KU Samfundsvidenskab was created on 2015-12-16 10:21:24\n",
      "The account User(_api=<tweepy.api.API object at 0x11094b990>, _json={'id': 3950529257, 'id_str': '3950529257', 'name': 'Emil Andersen', 'screen_name': 'HrEmilKA', 'location': '', 'profile_location': None, 'description': '', 'url': None, 'entities': {'description': {'urls': []}}, 'protected': False, 'followers_count': 4, 'friends_count': 124, 'listed_count': 0, 'created_at': 'Tue Oct 13 22:57:30 +0000 2015', 'favourites_count': 222, 'utc_offset': None, 'time_zone': None, 'geo_enabled': False, 'verified': False, 'statuses_count': 11, 'lang': None, 'status': {'created_at': 'Sun May 26 11:28:22 +0000 2019', 'id': 1132609417780879361, 'id_str': '1132609417780879361', 'text': '@Pia_Kjaersgaard Måske det er på tide at du trækker dig fra politik, så vi bare kan lade dig være pensionist', 'truncated': False, 'entities': {'hashtags': [], 'symbols': [], 'user_mentions': [{'screen_name': 'Pia_Kjaersgaard', 'name': 'Pia Kjærsgaard', 'id': 1054640354690039809, 'id_str': '1054640354690039809', 'indices': [0, 16]}], 'urls': []}, 'source': '<a href=\"http://twitter.com/download/iphone\" rel=\"nofollow\">Twitter for iPhone</a>', 'in_reply_to_status_id': 1132027505450344449, 'in_reply_to_status_id_str': '1132027505450344449', 'in_reply_to_user_id': 1054640354690039809, 'in_reply_to_user_id_str': '1054640354690039809', 'in_reply_to_screen_name': 'Pia_Kjaersgaard', 'geo': None, 'coordinates': None, 'place': None, 'contributors': None, 'is_quote_status': False, 'retweet_count': 0, 'favorite_count': 1, 'favorited': False, 'retweeted': False, 'lang': 'da'}, 'contributors_enabled': False, 'is_translator': False, 'is_translation_enabled': False, 'profile_background_color': 'C0DEED', 'profile_background_image_url': 'http://abs.twimg.com/images/themes/theme1/bg.png', 'profile_background_image_url_https': 'https://abs.twimg.com/images/themes/theme1/bg.png', 'profile_background_tile': False, 'profile_image_url': 'http://pbs.twimg.com/profile_images/1201631362702286854/OKF4C_pk_normal.jpg', 'profile_image_url_https': 'https://pbs.twimg.com/profile_images/1201631362702286854/OKF4C_pk_normal.jpg', 'profile_link_color': '1DA1F2', 'profile_sidebar_border_color': 'C0DEED', 'profile_sidebar_fill_color': 'DDEEF6', 'profile_text_color': '333333', 'profile_use_background_image': True, 'has_extended_profile': True, 'default_profile': True, 'default_profile_image': False, 'following': False, 'follow_request_sent': False, 'notifications': False, 'translator_type': 'none', 'suspended': False, 'needs_phone_verification': False}, id=3950529257, id_str='3950529257', name='Emil Andersen', screen_name='HrEmilKA', location='', profile_location=None, description='', url=None, entities={'description': {'urls': []}}, protected=False, followers_count=4, friends_count=124, listed_count=0, created_at=datetime.datetime(2015, 10, 13, 22, 57, 30), favourites_count=222, utc_offset=None, time_zone=None, geo_enabled=False, verified=False, statuses_count=11, lang=None, status=Status(_api=<tweepy.api.API object at 0x11094b990>, _json={'created_at': 'Sun May 26 11:28:22 +0000 2019', 'id': 1132609417780879361, 'id_str': '1132609417780879361', 'text': '@Pia_Kjaersgaard Måske det er på tide at du trækker dig fra politik, så vi bare kan lade dig være pensionist', 'truncated': False, 'entities': {'hashtags': [], 'symbols': [], 'user_mentions': [{'screen_name': 'Pia_Kjaersgaard', 'name': 'Pia Kjærsgaard', 'id': 1054640354690039809, 'id_str': '1054640354690039809', 'indices': [0, 16]}], 'urls': []}, 'source': '<a href=\"http://twitter.com/download/iphone\" rel=\"nofollow\">Twitter for iPhone</a>', 'in_reply_to_status_id': 1132027505450344449, 'in_reply_to_status_id_str': '1132027505450344449', 'in_reply_to_user_id': 1054640354690039809, 'in_reply_to_user_id_str': '1054640354690039809', 'in_reply_to_screen_name': 'Pia_Kjaersgaard', 'geo': None, 'coordinates': None, 'place': None, 'contributors': None, 'is_quote_status': False, 'retweet_count': 0, 'favorite_count': 1, 'favorited': False, 'retweeted': False, 'lang': 'da'}, created_at=datetime.datetime(2019, 5, 26, 11, 28, 22), id=1132609417780879361, id_str='1132609417780879361', text='@Pia_Kjaersgaard Måske det er på tide at du trækker dig fra politik, så vi bare kan lade dig være pensionist', truncated=False, entities={'hashtags': [], 'symbols': [], 'user_mentions': [{'screen_name': 'Pia_Kjaersgaard', 'name': 'Pia Kjærsgaard', 'id': 1054640354690039809, 'id_str': '1054640354690039809', 'indices': [0, 16]}], 'urls': []}, source='Twitter for iPhone', source_url='http://twitter.com/download/iphone', in_reply_to_status_id=1132027505450344449, in_reply_to_status_id_str='1132027505450344449', in_reply_to_user_id=1054640354690039809, in_reply_to_user_id_str='1054640354690039809', in_reply_to_screen_name='Pia_Kjaersgaard', geo=None, coordinates=None, place=None, contributors=None, is_quote_status=False, retweet_count=0, favorite_count=1, favorited=False, retweeted=False, lang='da'), contributors_enabled=False, is_translator=False, is_translation_enabled=False, profile_background_color='C0DEED', profile_background_image_url='http://abs.twimg.com/images/themes/theme1/bg.png', profile_background_image_url_https='https://abs.twimg.com/images/themes/theme1/bg.png', profile_background_tile=False, profile_image_url='http://pbs.twimg.com/profile_images/1201631362702286854/OKF4C_pk_normal.jpg', profile_image_url_https='https://pbs.twimg.com/profile_images/1201631362702286854/OKF4C_pk_normal.jpg', profile_link_color='1DA1F2', profile_sidebar_border_color='C0DEED', profile_sidebar_fill_color='DDEEF6', profile_text_color='333333', profile_use_background_image=True, has_extended_profile=True, default_profile=True, default_profile_image=False, following=False, follow_request_sent=False, notifications=False, translator_type='none', suspended=False, needs_phone_verification=False) was created on 2015-10-13 22:57:30\n"
     ]
    }
   ],
   "source": [
    "print(\"The account \" + str(kusamf_timeline.name) + \" was created on \" + str(kusamf_timeline.created_at))\n",
    "print(\"The account \" + str(HrEmilKA_timeline) + \" was created on \" + str(HrEmilKA_timeline.created_at))\n"
   ]
  },
  {
   "cell_type": "markdown",
   "metadata": {},
   "source": [
    "**4.1.3** Can you find out 1) where this account is located, 2) how many people are following the account, and 3) how many accounts the account is following?"
   ]
  },
  {
   "cell_type": "code",
   "execution_count": 22,
   "metadata": {
    "scrolled": true
   },
   "outputs": [
    {
     "name": "stdout",
     "output_type": "stream",
     "text": [
      "The account KU Samfundsvidenskab is located in the Capital Region, Denmark\n",
      "The account KU Samfundsvidenskab has 1000 accounts following it.\n",
      "The account KU Samfundsvidenskab is following 239 accounts.\n",
      "The account Emil Andersen is located in the \n",
      "The account Emil Andersen has 4 accounts following it.\n",
      "The account Emil Andersen is following 124 accounts.\n"
     ]
    }
   ],
   "source": [
    "print(\"The account \" + str(kusamf_timeline.name) + \" is located in the \" + str(kusamf_timeline.location))\n",
    "print(\"The account \" + str(kusamf_timeline.name) + \" has \" + str(kusamf_timeline.followers_count) + \" accounts following it.\")\n",
    "print(\"The account \" + str(kusamf_timeline.name) + \" is following \" + str(kusamf_timeline.friends_count) + \" accounts.\")\n",
    "\n",
    "print(\"The account \" + str(HrEmilKA_timeline.name) + \" is located in the \" + str(HrEmilKA_timeline.location))\n",
    "print(\"The account \" + str(HrEmilKA_timeline.name) + \" has \" + str(HrEmilKA_timeline.followers_count) + \" accounts following it.\")\n",
    "print(\"The account \" + str(HrEmilKA_timeline.name) + \" is following \" + str(HrEmilKA_timeline.friends_count) + \" accounts.\")\n"
   ]
  },
  {
   "cell_type": "markdown",
   "metadata": {},
   "source": [
    "**4.1.4** Next, get the timeline for this user \"mfroman\". What happens? Can you explain why?"
   ]
  },
  {
   "cell_type": "code",
   "execution_count": 24,
   "metadata": {},
   "outputs": [
    {
     "ename": "TweepError",
     "evalue": "Not authorized.",
     "output_type": "error",
     "traceback": [
      "\u001b[0;31m---------------------------------------------------------------------------\u001b[0m",
      "\u001b[0;31mTweepError\u001b[0m                                Traceback (most recent call last)",
      "\u001b[0;32m<ipython-input-24-58d548322a33>\u001b[0m in \u001b[0;36m<module>\u001b[0;34m\u001b[0m\n\u001b[1;32m      1\u001b[0m \u001b[0;31m# getting mfroman timeline\u001b[0m\u001b[0;34m\u001b[0m\u001b[0;34m\u001b[0m\u001b[0;34m\u001b[0m\u001b[0m\n\u001b[0;32m----> 2\u001b[0;31m \u001b[0muser_timeline\u001b[0m \u001b[0;34m=\u001b[0m \u001b[0mapi\u001b[0m\u001b[0;34m.\u001b[0m\u001b[0muser_timeline\u001b[0m\u001b[0;34m(\u001b[0m\u001b[0;34m\"mfroman\"\u001b[0m\u001b[0;34m)\u001b[0m\u001b[0;34m\u001b[0m\u001b[0;34m\u001b[0m\u001b[0m\n\u001b[0m",
      "\u001b[0;32m~/anaconda3/lib/python3.7/site-packages/tweepy/binder.py\u001b[0m in \u001b[0;36m_call\u001b[0;34m(*args, **kwargs)\u001b[0m\n\u001b[1;32m    248\u001b[0m                 \u001b[0;32mreturn\u001b[0m \u001b[0mmethod\u001b[0m\u001b[0;34m\u001b[0m\u001b[0;34m\u001b[0m\u001b[0m\n\u001b[1;32m    249\u001b[0m             \u001b[0;32melse\u001b[0m\u001b[0;34m:\u001b[0m\u001b[0;34m\u001b[0m\u001b[0;34m\u001b[0m\u001b[0m\n\u001b[0;32m--> 250\u001b[0;31m                 \u001b[0;32mreturn\u001b[0m \u001b[0mmethod\u001b[0m\u001b[0;34m.\u001b[0m\u001b[0mexecute\u001b[0m\u001b[0;34m(\u001b[0m\u001b[0;34m)\u001b[0m\u001b[0;34m\u001b[0m\u001b[0;34m\u001b[0m\u001b[0m\n\u001b[0m\u001b[1;32m    251\u001b[0m         \u001b[0;32mfinally\u001b[0m\u001b[0;34m:\u001b[0m\u001b[0;34m\u001b[0m\u001b[0;34m\u001b[0m\u001b[0m\n\u001b[1;32m    252\u001b[0m             \u001b[0mmethod\u001b[0m\u001b[0;34m.\u001b[0m\u001b[0msession\u001b[0m\u001b[0;34m.\u001b[0m\u001b[0mclose\u001b[0m\u001b[0;34m(\u001b[0m\u001b[0;34m)\u001b[0m\u001b[0;34m\u001b[0m\u001b[0;34m\u001b[0m\u001b[0m\n",
      "\u001b[0;32m~/anaconda3/lib/python3.7/site-packages/tweepy/binder.py\u001b[0m in \u001b[0;36mexecute\u001b[0;34m(self)\u001b[0m\n\u001b[1;32m    231\u001b[0m                     \u001b[0;32mraise\u001b[0m \u001b[0mRateLimitError\u001b[0m\u001b[0;34m(\u001b[0m\u001b[0merror_msg\u001b[0m\u001b[0;34m,\u001b[0m \u001b[0mresp\u001b[0m\u001b[0;34m)\u001b[0m\u001b[0;34m\u001b[0m\u001b[0;34m\u001b[0m\u001b[0m\n\u001b[1;32m    232\u001b[0m                 \u001b[0;32melse\u001b[0m\u001b[0;34m:\u001b[0m\u001b[0;34m\u001b[0m\u001b[0;34m\u001b[0m\u001b[0m\n\u001b[0;32m--> 233\u001b[0;31m                     \u001b[0;32mraise\u001b[0m \u001b[0mTweepError\u001b[0m\u001b[0;34m(\u001b[0m\u001b[0merror_msg\u001b[0m\u001b[0;34m,\u001b[0m \u001b[0mresp\u001b[0m\u001b[0;34m,\u001b[0m \u001b[0mapi_code\u001b[0m\u001b[0;34m=\u001b[0m\u001b[0mapi_error_code\u001b[0m\u001b[0;34m)\u001b[0m\u001b[0;34m\u001b[0m\u001b[0;34m\u001b[0m\u001b[0m\n\u001b[0m\u001b[1;32m    234\u001b[0m \u001b[0;34m\u001b[0m\u001b[0m\n\u001b[1;32m    235\u001b[0m             \u001b[0;31m# Parse the response payload\u001b[0m\u001b[0;34m\u001b[0m\u001b[0;34m\u001b[0m\u001b[0;34m\u001b[0m\u001b[0m\n",
      "\u001b[0;31mTweepError\u001b[0m: Not authorized."
     ]
    }
   ],
   "source": [
    "# getting mfroman timeline\n",
    "user_timeline = api.user_timeline(\"mfroman\")"
   ]
  },
  {
   "cell_type": "markdown",
   "metadata": {},
   "source": [
    "**4.1.5** Now, get the timeline for our example account \"vicariousveblen\". Some of the tweets were posted automatically, i.e. using a Python script. Can you tell from the metadata which? How?"
   ]
  },
  {
   "cell_type": "code",
   "execution_count": 25,
   "metadata": {},
   "outputs": [],
   "source": [
    "vv_timeline = api.user_timeline(\"vicariousveblen\")"
   ]
  },
  {
   "cell_type": "code",
   "execution_count": 29,
   "metadata": {},
   "outputs": [
    {
     "name": "stdout",
     "output_type": "stream",
     "text": [
      "2020-02-27 10:55:53\n",
      "2020-02-21 10:57:06\n",
      "2019-12-10 07:17:32\n",
      "2019-12-04 20:05:28\n",
      "2019-12-03 22:26:47\n",
      "2019-11-28 15:28:47\n",
      "2019-11-28 09:07:06\n",
      "2019-11-27 20:50:45\n",
      "2019-11-21 10:43:24\n",
      "2019-11-19 10:35:27\n",
      "2019-11-18 12:20:58\n",
      "2019-11-17 19:48:03\n",
      "2019-11-11 20:36:37\n",
      "2019-11-11 19:23:37\n",
      "2019-11-11 19:05:34\n",
      "2019-11-11 18:44:08\n",
      "2019-11-11 18:40:13\n",
      "2019-11-11 18:38:30\n",
      "2019-11-11 18:30:58\n",
      "2019-11-11 18:30:34\n"
     ]
    }
   ],
   "source": [
    "# code to loop through timeline and tell timing of posting\n",
    "#for tweet in vv_timeline:\n",
    "#    print(tweet.created_at)\n",
    "\n",
    "Kirsten = api.user_timeline(\"DenKorteKirsten\")\n",
    "for tweet in Kirsten: \n",
    "    print (tweet.created_at)"
   ]
  },
  {
   "cell_type": "markdown",
   "metadata": {},
   "source": [
    "## 4.2 Writing and using our own functions to process the Twitter data"
   ]
  },
  {
   "cell_type": "markdown",
   "metadata": {},
   "source": [
    "**4.2.1** Collect the timeline for this account \"CPH_SODAS\"."
   ]
  },
  {
   "cell_type": "code",
   "execution_count": 31,
   "metadata": {},
   "outputs": [],
   "source": [
    "sodas_timeline = api.user_timeline(\"CPH_SODAS\")"
   ]
  },
  {
   "cell_type": "markdown",
   "metadata": {},
   "source": [
    "**4.2.2** Write a function that you can use to summarize the tweets in the timeline–feel free to look at the code examples we used earlier today."
   ]
  },
  {
   "cell_type": "code",
   "execution_count": 34,
   "metadata": {},
   "outputs": [
    {
     "ename": "NameError",
     "evalue": "name 'gist' is not defined",
     "output_type": "error",
     "traceback": [
      "\u001b[0;31m---------------------------------------------------------------------------\u001b[0m",
      "\u001b[0;31mNameError\u001b[0m                                 Traceback (most recent call last)",
      "\u001b[0;32m<ipython-input-34-598a7b82a53c>\u001b[0m in \u001b[0;36m<module>\u001b[0;34m\u001b[0m\n\u001b[1;32m     31\u001b[0m     \u001b[0;31m#returning the list\u001b[0m\u001b[0;34m\u001b[0m\u001b[0;34m\u001b[0m\u001b[0;34m\u001b[0m\u001b[0m\n\u001b[1;32m     32\u001b[0m     \u001b[0;32mreturn\u001b[0m \u001b[0mgist\u001b[0m\u001b[0;34m\u001b[0m\u001b[0;34m\u001b[0m\u001b[0m\n\u001b[0;32m---> 33\u001b[0;31m \u001b[0mprint\u001b[0m \u001b[0;34m(\u001b[0m\u001b[0mgist\u001b[0m\u001b[0;34m)\u001b[0m\u001b[0;34m\u001b[0m\u001b[0;34m\u001b[0m\u001b[0m\n\u001b[0m",
      "\u001b[0;31mNameError\u001b[0m: name 'gist' is not defined"
     ]
    }
   ],
   "source": [
    "# define the function `user_gist` taking one argument\n",
    "def user_gist(user_timeline):\n",
    "    \n",
    "    # set up empty containers we will need throughout the loop\n",
    "    word_freq = {}\n",
    "    word_list = []\n",
    "    gist = []\n",
    "    \n",
    "    # FIRST, loop through tweets in the timeline\n",
    "    for tweet in user_timeline:\n",
    "        # split up tweets into lists of words\n",
    "        tweet_words = tweet.text.split()\n",
    "        # and combine into one big list using `extend` command\n",
    "        word_list.extend(tweet_words)\n",
    "    \n",
    "    # SECOND, loop through list of words in tweets\n",
    "    for w in word_list:\n",
    "        # add each unique word and its `count` to the dictionary `word_frequency`\n",
    "        if w not in word_freq:\n",
    "            word_freq[w] = word_list.count(w)\n",
    "\n",
    "    #looping through the dictionary and adding each value, key pair to the list\n",
    "    for key in word_freq:\n",
    "        gist.append((word_freq[key], key))\n",
    "\n",
    "    #sorting the list\n",
    "    gist.sort()\n",
    "    #reversing the sort to be largest to smallest\n",
    "    gist.reverse()\n",
    "\n",
    "    #returning the list\n",
    "    return gist"
   ]
  },
  {
   "cell_type": "markdown",
   "metadata": {},
   "source": [
    "**4.2.3** Apply the function to the timeline data you collected. Without looking it up, what would you say this account tweets about?"
   ]
  },
  {
   "cell_type": "code",
   "execution_count": 36,
   "metadata": {},
   "outputs": [
    {
     "data": {
      "text/plain": [
       "[(10, 'er'),\n",
       " (10, 'det'),\n",
       " (10, 'at'),\n",
       " (9, 'i'),\n",
       " (6, 'til'),\n",
       " (5, 'på'),\n",
       " (5, 'har'),\n",
       " (5, 'Jeg'),\n",
       " (4, 'og'),\n",
       " (4, 'af'),\n",
       " (4, 'Det'),\n",
       " (3, 'var'),\n",
       " (3, 'mig'),\n",
       " (3, 'jeg'),\n",
       " (3, 'ikke'),\n",
       " (3, 'en'),\n",
       " (3, 'der'),\n",
       " (3, '@trisse16'),\n",
       " (3, '@CaritRasmussen'),\n",
       " (2, 'så'),\n",
       " (2, 'skal'),\n",
       " (2, 'sig'),\n",
       " (2, 'se'),\n",
       " (2, 'må'),\n",
       " (2, 'med'),\n",
       " (2, 'jo'),\n",
       " (2, 'få'),\n",
       " (2, 'for'),\n",
       " (2, 'folk'),\n",
       " (2, 'eller'),\n",
       " (2, 'du'),\n",
       " (2, 'dine'),\n",
       " (2, 'den'),\n",
       " (2, 'dag'),\n",
       " (2, 'bare'),\n",
       " (2, 'Og'),\n",
       " (2, 'Ja,'),\n",
       " (1, 'år,…'),\n",
       " (1, 'være.'),\n",
       " (1, 'vulva.'),\n",
       " (1, 'vers:'),\n",
       " (1, 'ventet'),\n",
       " (1, 'un…'),\n",
       " (1, 'umuligt'),\n",
       " (1, 'udviklet'),\n",
       " (1, 'tror'),\n",
       " (1, 'tre'),\n",
       " (1, 'to,'),\n",
       " (1, 'sæson'),\n",
       " (1, 'særligt'),\n",
       " (1, 'svede'),\n",
       " (1, 'stregen'),\n",
       " (1, 'still…'),\n",
       " (1, 'stand'),\n",
       " (1, 'slås,'),\n",
       " (1, 'slang'),\n",
       " (1, 'sk…'),\n",
       " (1, 'skrive'),\n",
       " (1, 'skrevet'),\n",
       " (1, 'skeptisk,'),\n",
       " (1, 'simpelthen'),\n",
       " (1, 'siger'),\n",
       " (1, 'sige'),\n",
       " (1, 'sig,'),\n",
       " (1, 'sig!!!'),\n",
       " (1, 'ses'),\n",
       " (1, 'sang?'),\n",
       " (1, 'rygtet'),\n",
       " (1, 'ringer'),\n",
       " (1, 'pis,'),\n",
       " (1, 'over…'),\n",
       " (1, 'overgrebet'),\n",
       " (1, 'over,'),\n",
       " (1, 'over'),\n",
       " (1, 'oplevelser'),\n",
       " (1, 'om,'),\n",
       " (1, 'om'),\n",
       " (1, 'også'),\n",
       " (1, 'når'),\n",
       " (1, 'nybagt'),\n",
       " (1, 'nu'),\n",
       " (1, 'nok.'),\n",
       " (1, 'noget'),\n",
       " (1, 'niende'),\n",
       " (1, 'navn'),\n",
       " (1, 'mit'),\n",
       " (1, 'mine'),\n",
       " (1, 'men'),\n",
       " (1, 'meget'),\n",
       " (1, 'medicin.'),\n",
       " (1, 'mange'),\n",
       " (1, 'mand'),\n",
       " (1, 'man'),\n",
       " (1, 'løvinde.'),\n",
       " (1, 'læse'),\n",
       " (1, 'ligne'),\n",
       " (1, 'lavede'),\n",
       " (1, 'langt,'),\n",
       " (1, 'langt'),\n",
       " (1, 'kærlighed.'),\n",
       " (1, 'krævende.'),\n",
       " (1, 'kraftigste'),\n",
       " (1, 'kontakt'),\n",
       " (1, 'knap'),\n",
       " (1, 'kan'),\n",
       " (1, 'i…'),\n",
       " (1, 'indad,'),\n",
       " (1, 'ind'),\n",
       " (1, 'hvis'),\n",
       " (1, 'hverken'),\n",
       " (1, 'https://t.co/wOwnrYAvte'),\n",
       " (1, 'https://t.co/pPgKjV2oXg'),\n",
       " (1, 'https://t.co/fkEZuU8zsG'),\n",
       " (1, 'https://t.co/eAx34DzPsD'),\n",
       " (1, 'https://t.co/dvS8oQKNHS'),\n",
       " (1, 'https://t.co/ZWpT8dxGVy'),\n",
       " (1, 'https://t.co/SZeYatBthu.'),\n",
       " (1, 'https://t.co/R5G6u708LL'),\n",
       " (1, 'https://t.co/Qol7oFUXR1'),\n",
       " (1, 'https://t.co/Fxgd1AzJ2z'),\n",
       " (1, 'https://t.co/CIMpHqgNCR'),\n",
       " (1, 'https://t.co/5KrBmKP3ef'),\n",
       " (1, 'https://t.co/0xCxJnA5DT'),\n",
       " (1, 'holder'),\n",
       " (1, 'hjælpe'),\n",
       " (1, 'haft'),\n",
       " (1, 'går.'),\n",
       " (1, 'grund'),\n",
       " (1, 'glæder'),\n",
       " (1, 'fysisk'),\n",
       " (1, 'forkert.'),\n",
       " (1, 'foregår'),\n",
       " (1, 'folk.'),\n",
       " (1, 'folk,'),\n",
       " (1, 'fejlen.'),\n",
       " (1, 'far'),\n",
       " (1, 'fantastisk!'),\n",
       " (1, 'fanden'),\n",
       " (1, 'engelsk'),\n",
       " (1, 'elsker'),\n",
       " (1, 'døgn'),\n",
       " (1, 'dig.'),\n",
       " (1, 'derinde.'),\n",
       " (1, 'derfor'),\n",
       " (1, 'dage'),\n",
       " (1, 'da'),\n",
       " (1, 'chok'),\n",
       " (1, 'børnebørn'),\n",
       " (1, 'børn'),\n",
       " (1, 'brølt,'),\n",
       " (1, 'bogreolen...'),\n",
       " (1, 'bilder'),\n",
       " (1, 'bedste'),\n",
       " (1, 'arbejdende'),\n",
       " (1, 'anmelderen'),\n",
       " (1, 'altså'),\n",
       " (1, 'allerede'),\n",
       " (1, 'aldrig'),\n",
       " (1, 'afvise'),\n",
       " (1, 'afsnit'),\n",
       " (1, 'Værsgo'),\n",
       " (1, 'Vi'),\n",
       " (1, 'Tænkte'),\n",
       " (1, 'Tænk'),\n",
       " (1, 'Twitter'),\n",
       " (1, 'The'),\n",
       " (1, 'Særligt'),\n",
       " (1, 'Så'),\n",
       " (1, 'Prins'),\n",
       " (1, 'Pia'),\n",
       " (1, 'Nu'),\n",
       " (1, 'Mine'),\n",
       " (1, 'Latter'),\n",
       " (1, 'LO'),\n",
       " (1, 'Kirsten'),\n",
       " (1, 'Indenad'),\n",
       " (1, 'Ibsen.'),\n",
       " (1, 'Hvad'),\n",
       " (1, 'H.-staden'),\n",
       " (1, 'Grozny,'),\n",
       " (1, 'Godt'),\n",
       " (1, 'E…'),\n",
       " (1, 'En'),\n",
       " (1, 'Efter'),\n",
       " (1, 'Du'),\n",
       " (1, 'Dejligt'),\n",
       " (1, 'Crown.'),\n",
       " (1, 'Birgit\",'),\n",
       " (1, 'Andrew.'),\n",
       " (1, 'Adelsteen'),\n",
       " (1, '@seoghoerdk'),\n",
       " (1, '@ekrausej'),\n",
       " (1, '@btdk'),\n",
       " (1, '@TomJensen1966'),\n",
       " (1, '@PerGOlsen!'),\n",
       " (1, '@PerGOlsen'),\n",
       " (1, '@EkstraBladet,'),\n",
       " (1, '@BHaarder.'),\n",
       " (1, '@BHaarder'),\n",
       " (1, '80-årig'),\n",
       " (1, '7.'),\n",
       " (1, '6…'),\n",
       " (1, '-'),\n",
       " (1, '#tusindeogenvalgnat'),\n",
       " (1, '#epsteinkilledhimself'),\n",
       " (1, '#TheIrishman'),\n",
       " (1, '#NoSweat'),\n",
       " (1, '\"Den')]"
      ]
     },
     "execution_count": 36,
     "metadata": {},
     "output_type": "execute_result"
    }
   ],
   "source": [
    "user_gist(Kirsten)"
   ]
  },
  {
   "cell_type": "markdown",
   "metadata": {},
   "source": [
    "## 4.3 Follow Your Interests"
   ]
  },
  {
   "cell_type": "markdown",
   "metadata": {},
   "source": [
    "**4.3.1** Identify three Twitter accounts _or_ key words of interest to you. Use the functionality we learned today to look at their history of the accounts, who tweets about your keywords, what do your accounts tweet about etc."
   ]
  }
 ],
 "metadata": {
  "kernelspec": {
   "display_name": "Python 3",
   "language": "python",
   "name": "python3"
  },
  "language_info": {
   "codemirror_mode": {
    "name": "ipython",
    "version": 3
   },
   "file_extension": ".py",
   "mimetype": "text/x-python",
   "name": "python",
   "nbconvert_exporter": "python",
   "pygments_lexer": "ipython3",
   "version": "3.7.4"
  }
 },
 "nbformat": 4,
 "nbformat_minor": 2
}
