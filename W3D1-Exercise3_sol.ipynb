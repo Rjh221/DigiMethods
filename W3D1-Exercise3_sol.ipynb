{
 "cells": [
  {
   "cell_type": "markdown",
   "metadata": {},
   "source": [
    "# Exercise 3: Functions and Data\n",
    "\n",
    "Builds on exercises provided by programminghistorian.org. \n",
    "\n",
    "## 3.1 Functions\n"
   ]
  },
  {
   "cell_type": "markdown",
   "metadata": {},
   "source": [
    "**Question 3.1.1**: Write a function `is_number` that uses the `try` and `except` structure to return `True` of the input is a number, or print a relevant error statement and returns `None` if the input is not a number. Test your function on several cases. "
   ]
  },
  {
   "cell_type": "code",
   "execution_count": 5,
   "metadata": {},
   "outputs": [],
   "source": [
    "#Answer to question 3.1.1"
   ]
  },
  {
   "cell_type": "code",
   "execution_count": 6,
   "metadata": {},
   "outputs": [
    {
     "name": "stdout",
     "output_type": "stream",
     "text": [
      "True\n"
     ]
    }
   ],
   "source": [
    "#defining the number\n",
    "def is_number(num):\n",
    "    try: \n",
    "        #If float() is successful then num is a number (or a representation of a number)\n",
    "        float(num)\n",
    "    except ValueError:\n",
    "        #If float() throws an error, then the input cannot be converted to a number\n",
    "        print(\"Invalid input. Input you must be a number.\")\n",
    "        return None\n",
    "    else:\n",
    "        return True\n",
    "\n",
    "    \n",
    "#My own attempt\n",
    "def is_number(num):\n",
    "    try: \n",
    "        num + 1\n",
    "        return True\n",
    "    except: \n",
    "        ValueError\n",
    "        print('This is not a number.')\n",
    "    return None\n",
    "\n",
    "\n",
    "print (is_number(3))"
   ]
  },
  {
   "cell_type": "markdown",
   "metadata": {},
   "source": [
    "**Question 3.1.2**: Write some test cases for your function. Did you have to change your function based on your test cases? If so, explain. "
   ]
  },
  {
   "cell_type": "code",
   "execution_count": 7,
   "metadata": {},
   "outputs": [],
   "source": [
    "#Answer to question 3.1.2"
   ]
  },
  {
   "cell_type": "code",
   "execution_count": 8,
   "metadata": {},
   "outputs": [
    {
     "name": "stdout",
     "output_type": "stream",
     "text": [
      "True\n",
      "True\n",
      "True\n",
      "This is not a number.\n",
      "None\n",
      "This is not a number.\n",
      "None\n"
     ]
    }
   ],
   "source": [
    "#Test integer\n",
    "print(is_number(3))\n",
    "#Test float\n",
    "print(is_number(1.6))\n",
    "#test negative number\n",
    "print(is_number(-88))\n",
    "#test number as string\n",
    "print(is_number(\"5.5\"))\n",
    "#test string\n",
    "print(is_number(\"five\"))"
   ]
  },
  {
   "cell_type": "markdown",
   "metadata": {},
   "source": [
    "**Question 3.1.3**: Write a function `word_freq` that takes in a list of words and counts the frequency of each word in the list. Your function should return a dictionary with the word as the key and the count as the value. \n",
    "\n",
    "Hint: Useful string methods to look at is `count()`."
   ]
  },
  {
   "cell_type": "code",
   "execution_count": 9,
   "metadata": {},
   "outputs": [],
   "source": [
    "#Answer to question 3.1.3"
   ]
  },
  {
   "cell_type": "code",
   "execution_count": 10,
   "metadata": {},
   "outputs": [],
   "source": [
    "#Defining my function\n",
    "def word_freq (word_list):\n",
    "    #initializing empty dictionary\n",
    "    wordfreq = {}\n",
    "    \n",
    "    #looping through each word\n",
    "    for w in word_list:\n",
    "        #checking if we have counted this word already\n",
    "        #this is more efficient \n",
    "        if w not in wordfreq:\n",
    "            wordfreq[w] = word_list.count(w)\n",
    "    \n",
    "    #returning the dictionary\n",
    "    return wordfreq\n"
   ]
  },
  {
   "cell_type": "markdown",
   "metadata": {},
   "source": [
    "**Question 3.1.4**: Write a function  `sort_freq_dict` that takes a dictionary of key value pairs that are words and their frequencies. The function should turn the dictionary into a list of (freq, word) tuples, sorted highest to lowest by frequency. The function should return this list. \n",
    "\n",
    "Hint: list methods `sort()` and `reverse()` will be useful. "
   ]
  },
  {
   "cell_type": "code",
   "execution_count": 11,
   "metadata": {},
   "outputs": [],
   "source": [
    "#Answer to question 3.1.4"
   ]
  },
  {
   "cell_type": "code",
   "execution_count": 12,
   "metadata": {},
   "outputs": [],
   "source": [
    "#defining the function\n",
    "def sort_freq_dict (freq_dict):\n",
    "    #creating an empty list\n",
    "    freq_list = []\n",
    "    \n",
    "    #looping through the dictionary and adding each value, key pair to the list\n",
    "    for key in freq_dict:\n",
    "        freq_list.append((freq_dict[key], key))\n",
    "    \n",
    "    #sorting the list\n",
    "    freq_list.sort()\n",
    "    #reversing the sort to be largest to smallest\n",
    "    freq_list.reverse()\n",
    "    \n",
    "    #returning the list\n",
    "    return freq_list"
   ]
  },
  {
   "cell_type": "markdown",
   "metadata": {},
   "source": [
    "**Question 3.1.5**: Write a function called `remove_stop_words` that takes two lists of words as input (a word list and a stop word list). Your function should return a list of words with all the words in the word list except those found in the stop word list. \n",
    "\n",
    "Note: A stop word list is a list of common words (e.g. the, a, and, etc.)"
   ]
  },
  {
   "cell_type": "code",
   "execution_count": 13,
   "metadata": {},
   "outputs": [],
   "source": [
    "#Answer to question 3.1.5"
   ]
  },
  {
   "cell_type": "code",
   "execution_count": 14,
   "metadata": {},
   "outputs": [],
   "source": [
    "#Defining my function\n",
    "def remove_stop_words(word_list, stop_words):\n",
    "    #creating a new empty list\n",
    "    clean_list = []\n",
    "    \n",
    "    #looping through the list of words\n",
    "    for w in word_list:\n",
    "        #if the word is not in the stop word list, add it to the new list\n",
    "        if w not in stop_words:\n",
    "            clean_list.append(w)\n",
    "    \n",
    "    #return the new list\n",
    "    return clean_list\n",
    "    "
   ]
  },
  {
   "cell_type": "markdown",
   "metadata": {},
   "source": [
    "## 2.2 Text Files\n",
    "\n",
    "**Question 2.2.1**: Read in the text files `stop_words.txt` and turn it into a list of words. \n",
    "\n",
    "Note: when you look at the file you see that each word is on a different line. Remember to remove the newline characters for each line/word.\n",
    "\n",
    "Stopwords from: http://ir.dcs.gla.ac.uk/resources/linguistic_utils/stop_words"
   ]
  },
  {
   "cell_type": "code",
   "execution_count": 15,
   "metadata": {},
   "outputs": [],
   "source": [
    "#Answer to question 2.2.1"
   ]
  },
  {
   "cell_type": "code",
   "execution_count": 16,
   "metadata": {},
   "outputs": [
    {
     "name": "stdout",
     "output_type": "stream",
     "text": [
      "<_io.TextIOWrapper name='stop_words.txt' mode='r' encoding='UTF-8'>\n"
     ]
    }
   ],
   "source": [
    "#Open file\n",
    "file = open('stop_words.txt','r', errors = 'ignore')\n",
    "\n",
    "#create an empty list of words\n",
    "stop_words = []\n",
    "\n",
    "#loop through each line in the file\n",
    "for line in file:\n",
    "    #strip the line of the newline character\n",
    "    line = line.strip(\"\\n\")\n",
    "    #add the word to the list\n",
    "    stop_words.append(line)\n",
    "\n",
    "#close the file\n",
    "file.close()\n",
    "\n",
    "print(file)\n"
   ]
  },
  {
   "cell_type": "markdown",
   "metadata": {},
   "source": [
    "**Question 2.2.2**: Write a function `make_wordlist` that takes a filename as the argument. The function reads the file, turning the text to lower case and removes all non alpha-numeric characters. The function returns a list of all the words.  \n",
    "\n",
    "Hint: You will need to use a regular expression for only alphanumeric characters. Use search(pattern, text) and group() methods following the example in class.  \n"
   ]
  },
  {
   "cell_type": "code",
   "execution_count": 17,
   "metadata": {},
   "outputs": [],
   "source": [
    "#Answer to Question 2.2.2"
   ]
  },
  {
   "cell_type": "code",
   "execution_count": 18,
   "metadata": {},
   "outputs": [],
   "source": [
    "def make_wordlist(filename):\n",
    "    #importing regular expression library\n",
    "    import re\n",
    "    \n",
    "    #opening file\n",
    "    file = open(filename, 'r', errors = 'ignore')\n",
    "    \n",
    "    #reading the text\n",
    "    text = file.read()\n",
    "    \n",
    "    #turning the text into a lowercase list of words\n",
    "    #note because text.lower() returns a string,\n",
    "    #the split() method can be then called on that string\n",
    "    word_list = text.lower().split()\n",
    "    clean_list = []\n",
    "    \n",
    "    #Loop through all the words in the list\n",
    "    for w in word_list:\n",
    "        #strip the word of all non alphanumeric characters\n",
    "        clean_word = re.search('\\w+',w)\n",
    "        \n",
    "        #if the regular expression found a word\n",
    "        #add that word to our new list\n",
    "        if clean_word:\n",
    "            clean_list.append(clean_word.group())\n",
    "    \n",
    "    return clean_list\n",
    "    \n",
    "            "
   ]
  },
  {
   "cell_type": "markdown",
   "metadata": {},
   "source": [
    "**Question 2.2.3**: Putting the above together allows you to read a file, clean up the words to remove unwanted characters, and count the frequency of words in the text from the file. This results in a sorted list of words. \n",
    "\n",
    "Run the code below to count the frequency of words in `Speech_2019.txt`. This is the speech given by DK Prime Minister Mette Frederiksen at the opening of parliament. Original found [here](http://www.stm.dk/_p_14878.html).\n",
    "\n",
    "Write the resulting list of words frequencies to a new text file with an appropriate name. Have a look at the file, does it seem like all your functions are working as they should? If not, try and debug the problem"
   ]
  },
  {
   "cell_type": "code",
   "execution_count": 19,
   "metadata": {},
   "outputs": [
    {
     "name": "stdout",
     "output_type": "stream",
     "text": [
      "['prime', 'minister', 'mette', 'frederiksen', 'opening', 'address', 'opening', 'folketing', 'danish', 'parliament', 'spoken', 'word', 'applies', 'pram', 'standing', 'outside', 'brugsen', 'child', 'strawberry', 'booth', 'roadside', 'box', 'money', 'standing', 'unguarded', 'children', 'riding', 'bicycles', 'school', 'feeling', 'bit', 'like', 'dan', 'turll', 'jeg', 'holder', 'af', 'hverdagen', 'fond', 'everyday', 'life', 'little', 'things', 'make', 'sum', 'grand', 'history', 'everyday', 'life', 'past', 'present', 'single', 'word', 'trust', 'ask', 'danes', 'trust', 'people', 'record', 'people', 'answer', 'yes', 'denmark', 'don', 'gold', 'mines', 'valuable', 'trust', 'built', 'society', 'based', 'trust', 'duties', 'rights', 'order', 'pay', 'taxes', 'trusting', 'pay', 'pay', 'medical', 'appointment', 'trusting', 'pay', 'solidarity', 'meet', 'neighbourhood', 'workplace', 'parent', 'meeting', 'human', 'human', 'met', 'trust', 'just', 'cozy', 'huge', 'strength', 'just', 'example', 'engineer', 'danish', 'company', 'drawing', 'smith', 'deduct', 'does', 'completely', 'align', 'actual', 'conditions', 'smith', 'approaches', 'engineer', 'says', 'listen', 'just', 'don', 'think', 'ought', 'little', 'different', 'know', 'attended', 'school', 'play', 'oldboys', 'soccer', 'sunday', 'denmark', 'connected', 'trust', 'closeness', 'mutual', 'respect', 'provides', 'stability', 'creativity', 'jobs', 'progress', 'trust', 'does', 'make', 'safe', 'rich', 'denmark', 'fantastic', 'country', 'recognize', 'picture', 'denmark', 'just', 'painted', 'believe', 'maybe', 'remember', 'thinks', 'really', 'rosy', 'wish', 'answer', 'yes', 'frame', 'picture', 'stable', 'painting', 'faded', 'somewhat', 'strawberry', 'booth', 'video', 'surveillance', 'paradox', 'overall', 'wealth', 'improved', 'sensing', 'greater', 'insecurity', 'ask', 'danes', 'today', 'think', 'children', 'better', 'future', 'doubt', 'toiled', 'long', 'time', 'physically', 'demanding', 'jobs', 'worried', 'near', 'future', 'experience', 'welfare', 'society', 'paid', 'entire', 'working', 'life', 'need', 'carry', 'new', 'right', 'early', 'retirement', 'worn', 'workforce', 'fighting', 'justice', 'history', 'does', 'forward', 'regress', 'wider', 'world', 'battles', 'thought', 'won', 'lost', 'free', 'trade', 'freedoms', 'women', 'free', 'right', 'abortion', 'home', 'denmark', 'know', 'people', 'things', 'development', 'running', 'faster', 'fast', 'new', 'demands', 'cracks', 'trust', 'centralization', 'scandal', 'skat', 'american', 'capital', 'fund', 'buying', 'homes', 'bonus', 'million', 'kroners', 'ceo', 'does', 'greed', 'know', 'boundaries', 'apparently', 'large', 'banks', 'failed', 'responsibilities', 'society', 'helped', 'climate', 'crisis', 'worry', 'globe', 'existence', 'denmark', 'strong', 'country', 'danes', 'skilful', 'businesses', 'responsibility', 'society', 'jobs', 'welfare', 'society', 'based', 'unrest', 'world', 'countries', 'close', 'heading', 'weaker', 'growth', 'brexit', 'trade', 'wars', 'affect', 'denmark', 'progress', 'employment', 'high', 'unemployment', 'numbers', 'low', 'lot', 'going', 'really', 'actually', 'things', 'going', 'shall', 'continue', 'things', 'going', 'differences', 'big', 'society', 'contract', 'weaker', 'trust', 'decreased', 'feeling', 'powerlessness', 'grabs', 'hold', 'risk', 'losing', 'faith', 'democracy', 'unity', 'hope', 'change', 'lose', 'lose', 'faith', 'ability', 'create', 'future', 'strengthen', 'makes', 'denmark', 'denmark', 'trust', 'unity', 'solidarity', 'values', 'aiming', 'young', 'grown', 'older', 'aspects', 'wiser', 'hopefully', 'happens', 'life', 'stick', 'came', 'lead', 'country', 'clear', 'ambition', 'denmark', 'speech', 'today', 'litany', 'things', 'government', 'plans', 'carry', 'course', 'working', 'year', 'folketing', 'things', 'written', 'legislative', 'program', 'instead', 'point', 'direction', 'greater', 'justice', 'welfare', 'greener', 'denmark', 'today', 'like', 'say', 'thank', 'trust', 'new', 'government', 'shown', 'new', 'prime', 'minister', 'voters', 'parliamentary', 'support', 'enhedslisten', 'red', 'alliance', 'sf', 'socialist', 'peoples', 'party', 'radikale', 'social', 'liberal', 'party', 'written', 'paper', 'common', 'understanding', 'proud', 'proud', 'look', 'forward', 'cooperation', 'look', 'forward', 'cooperation', 'folketing', 'government', 'does', 'necessary', 'mandates', 'wish', 'achieve', 'believe', 'broad', 'agreements', 'provide', 'better', 'results', 'occasions', 'price', 'pay', 'compromise', 'honest', 'today', 'holding', 'opening', 'address', 'prime', 'minister', 'parliament', '60', 'precise', 'start', 'working', 'year', 'folketing', 'new', 'party', 'colleague', 'colleague', 'say', 'welcome', 'shouldn', 'new', 'old', 'mps', 'steer', 'common', 'ambition', 'best', 'version', 'folketing', 'new', 'working', 'year', 'trust', 'politicians', 'improved', 'bit', 'quite', 'low', 'lack', 'trust', 'wake', 'think', 'fact', 'shall', 'tend', 'inflate', 'results', 'somewhat', 'completely', 'honest', 'pretending', 'difficult', 'hard', 'actually', 'easy', 'way', 'try', 'steer', 'clear', 'general', 'population', 'far', 'trust', 'groups', 'society', 'midwives', 'police', 'nurses', 'doctors', 'working', 'caretaking', 'people', 'understand', 'today', 'say', 'create', 'safety', 'opportunities', 'make', 'denmark', 'denmark', 'day', 'work', 'little', 'miracles', 'important', 'pressure', 'year', 'year', 'shouldn', 'society', 'grows', 'richer', 'welfare', 'decreasing', 'government', 'welfare', 'let', 'rid', 'reprioritization', 'contributions', 'education', 'way', 'amu', 'courses', 'labour', 'market', 'courses', 'education', 'vocational', 'training', 'universities', 'agreements', 'regions', 'municipalities', 'floor', 'welfare', 'social', 'healthcare', 'social', 'healthcare', 'hired', 'elderly', 'children', 'means', 'adults', 'money', 'follows', 'demographics', 'welfare', 'worn', 'places', 'places', 'takes', 'toll', 'employees', 'set', 'aside', 'money', 'additional', '1000', 'nurses', 'words', 'begin', 'expand', 'welfare', 'like', 'speaking', 'government', 'doing', 'adorn', 'speaking', 'words', 'praise', 'politics', 'believe', 'finish', 'sentences', 'know', 'lingo', 'billions', 'years', 'municipalities', 'regions', 'money', 'children', 'sick', 'people', 'elderly', 'say', 'actually', 'just', 'said', 'want', 'say', 'want', 'say', 'like', 'sitting', 'benches', 'hall', 'watching', 'home', 'notice', 'changes', 'right', 'away', 'everyday', 'life', 'hospitals', 'nursing', 'homes', 'day', 'care', 'noticeably', 'safe', 'better', 'begin', 'spend', 'billions', 'roll', 'unevenly', 'distributed', 'tax', 'cuts', 'start', 'spending', 'money', 'education', 'children', 'health', 'challenges', 'big', 'notice', 'words', 'honest', 'version', 'just', 'taken', 'step', 'road', 'long', 'step', 'means', 'way', 'step', 'step', 'agreement', 'agreement', 'budget', 'budget', 'year', 'year', 'welfare', 'distributing', 'money', 'clear', 'day', 'money', 'does', 'solve', 'problems', 'engage', 'fundamental', 'debate', 'welfare', 'society', 'did', 'create', 'did', 'build', 'unique', 'fantastic', 'society', 'welfare', 'society', 'built', 'people', 'people', 'simple', 'fine', 'today', 'feel', 'welfare', 'forced', 'background', 'taken', 'new', 'public', 'management', 'budget', 'cuts', 'streamlining', 'long', 'remember', 'danish', 'politics', 'ultimately', 'welfare', 'society', 'accomplish', 'strange', 'development', 'emerged', 'laugh', 'actually', 'think', 'problem', 'looked', 'daughter', 'new', 'timetable', 'august', 'didn', 'understand', 'acronyms', 'teachers', 'training', 'collage', 'lrerseminarium', 'university', 'college', 'know', 'example', 'plc', 'stands', 'right', 'stands', 'pedagogical', 'learning', 'center', 'used', 'called', 'school', 'library', 'did', 'stop', 'calling', 'things', 'actual', 'completely', 'unnecessary', 'alienation', 'course', 'improve', 'things', 'necessary', 'necessary', 'conduct', 'meetings', 'lay', 'strategies', 'welfare', 'project', 'welfare', 'warmth', 'love', 'care', 'possibilities', 'thank', 'welfare', 'society', 'giving', 'opportunity', 'rise', 'ranks', 'society', 'social', 'mobility', 'longer', 'improving', 'places', 'everyday', 'welfare', 'worse', 'project', 'welfare', 'plain', 'care', 'let', 'example', 'police', 'citizens', 'experience', 'police', 'does', 'respond', 'cases', 'prolonged', 'able', 'trust', 'police', 'judicial', 'frightening', 'happened', 'new', 'tasks', 'added', 'banditry', 'terrorism', 'bombings', 'border', 'control', 'explanation', 'pseudo', 'allowed', 'time', 'real', 'work', 'today', 'danish', 'national', 'police', '1900', 'employees', 'twice', 'employees', 'police', 'force', 'funen', 'employed', 'central', 'administration', 'units', 'instead', 'close', 'citizens', 'better', 'balance', 'police', 'example', 'example', 'caring', 'elderly', 'internship', 'home', 'carer', 'handed', 'timetable', 'precise', 'minutes', 'visit', 'elderly', 'citizen', 'measured', 'certain', 'number', 'minutes', 'just', 'say', 'citizen', 'sad', 'sad', '8', 'minutes', 'today', 'makes', 'sense', 'spent', 'time', 'figuring', 'timetables', 'somebody', 'spends', 'time', 'controlling', 'surprised', 'people', 'spend', 'time', 'controlling', 'work', 'person', 'controlling', 'old', 'man', 'lies', 'bed', 'waiting', 'help', 'bed', 'employees', 'care', 'sector', 'elderly', 'spend', 'half', 'time', 'work', 'elderly', 'half', 'spent', 'documentation', 'meetings', 'preparation', 'medicine', 'transport', 'citizen', 'course', 'medication', 'need', 'prepared', 'day', 'shift', 'needs', 'informed', 'happened', 'night', 'shift', 'task', 'ones', 'enter', 'territory', 'filled', 'dilemmas', 'really', 'difficult', 'instance', 'right', 'free', 'choice', 'paradigm', 'excellent', 'idea', 'citizen', 'shall', 'opportunity', 'choose', 'cleaning', 'services', 'instance', 'private', 'company', 'task', 'cleaning', 'clearly', 'specified', 'certain', 'number', 'minutes', 'vacuum', 'question', 'minute', 'tyranny', 'elderly', 'care', 'emerged', 'inclusion', 'private', 'companies', 'right', 'freely', 'choose', 'supplier', 'services', 'don', 'fooled', 'thinking', 'going', 'holy', 'cows', 'centre', 'comes', 'dilemma', 'important', 'time', 'care', 'attention', 'documentation', 'rights', 'think', 'folketing', 'point', 'demanded', 'new', 'rights', 'citizen', 'left', 'wing', 'touched', 'story', 'elderly', 'lady', 'help', 'cleaning', 'tasks', 'plain', 'truth', 'tempted', 'legislate', 'regulate', 'extent', 'judgement', 'lies', 'proud', 'care', 'taker', 'proud', 'local', 'politician', 'longer', 'taken', 'consideration', 'gradually', 'beginning', 'festive', 'speeches', 'praise', 'local', 'democracy', 'actually', 'want', 'let', 'municipal', 'autonomy', 'decide', 'important', 'issues', 'focused', 'municipalities', 'welfare', 'citizen', 'timetables', 'strategies', 'social', 'democrats', 'used', 'policy', 'campaign', 'elderly', 'citizen', 'right', 'daily', 'shower', 'did', 'succeed', 'carrying', 'luckily', 'just', 'think', 'brought', 'amounts', 'controlling', 'amounts', 'timetables', 'elderly', 'citizens', 'said', 'really', 'didn', 'want', 'shower', 'single', 'day', 'produced', 'headlines', 'remember', 'commentaries', 'nursing', 'homes', 'residents', 'stated', 'completely', 'unnecessary', 'showers', 'forgotten', 'ask', 'elderly', 'citizens', 'like', 'equally', 'important', 'forgot', 'politics', 'actually', 'legislation', 'direction', 'way', 'lead', 'country', 'political', 'responsibility', 'actual', 'problem', 'nursing', 'home', 'head', 'nursing', 'home', 'solve', 'problem', 'employee', 'held', 'accountable', 'instead', 'process', 'draining', 'best', 'society', 'model', 'world', 'important', 'elements', 'trust', 'knowing', 'people', 'jobs', 'trust', 'fact', 'problems', 'solved', 'local', 'level', 'mistakes', 'corrected', 'turn', 'development', 'demand', 'hang', 'tight', 'difficult', 'legislate', 'going', 'let', 'ask', 'tough', 'questions', 'municipalities', 'making', 'fewer', 'timetables', 'strategies', 'labour', 'unions', 'make', 'stop', 'demanding', 'firm', 'rules', 'members', 'time', 'patient', 'associations', 'demanding', 'new', 'rights', 'parent', 'councils', 'try', 'control', 'add', 'sugar', 'policy', 'existing', 'ecology', 'policy', 'folketing', 'better', 'sticking', 'noses', 'mistakes', 'abstain', 'legislating', 'based', 'case', 'case', 'approach', 'know', 'employees', 'drowning', 'good', 'intentions', 'job', 'best', 'possible', 'way', 'understand', 'let', 'bureaucracy', 'enter', 'ear', 'disappear', 'spend', 'energy', 'citizens', 'need', 'closeness', 'reform', 'reduce', 'micro', 'power', 'professionalism', 'leadership', 'municipal', 'institutions', 'compromise', 'results', 'cancer', 'treatment', 'continue', 'improve', 'children', 'learn', 'school', 'point', 'quite', 'contrary', 'governance', 'leadership', 'today', 'does', 'provide', 'best', 'results', 'better', 'today', 'like', 'invite', 'join', 'journey', 'free', 'passes', 'journey', 'demand', 'easy', 'good', 'good', 'dare', 'trust', 'welfare', 'need', 'time', 'care', 'human', 'human', 'efforts', 'areas', 'mistrust', 'replaced', 'trust', 'tax', 'authorities', 'failed', 'crooks', 'stolen', 'money', 'common', 'treasury', 'completely', 'fundamental', 'trust', 'fact', 'community', 'works', 'years', 'rebuilding', 'lie', 'ahead', 'said', 'difficult', 'said', 'task', 'tax', 'evasion', 'uncovered', 'punished', 'demands', 'controlling', 'sufficient', 'tomorrow', 'publish', 'government', 'budget', 'proposal', 'intend', 'add', 'money', 'tax', 'authorities', 'things', 'wonder', 'watching', 'today', 'sporting', 'slightly', 'blank', 'stare', 'people', 'start', 'speaking', 'tax', 'authorities', 'recognise', 'feeling', 'employees', 'tax', 'authorities', 'deserve', 'new', 'colleagues', 'employ', 'people', 'like', 'good', 'old', 'days', 'real', 'humans', 'make', 'sure', 'pays', 'taxes', 'supposed', 'pay', 'place', 'society', 'crisis', 'trust', 'bigger', 'immigration', 'policy', 'decades', 'politicians', 'christiansborg', 'population', 'living', 'separate', 'worlds', 'know', 'far', 'late', 'understanding', 'bad', 'failed', 'integration', 'left', 'traces', 'schools', 'residential', 'areas', 'workplaces', 'evidently', 'crime', 'statistics', 'prisons', 'danish', 'background', 'far', 'come', 'commit', 'crimes', 'sons', 'crimes', 'violence', 'times', 'carried', 'male', 'descendants', 'immigrants', 'non', 'background', 'men', 'crime', 'evil', 'places', 'feel', 'unsafe', 'night', 'lot', 'damage', 'foreign', 'background', 'live', 'law', 'life', 'contribute', 'society', 'risk', 'held', 'accountable', 'atrocities', 'regardless', 'commits', 'violence', 'crime', 'danes', 'foreigners', 'danish', 'society', 'risk', 'brutalized', 'sense', 'beginning', 'used', 'reckless', 'driving', 'threats', 'stabbings', 'shootings', 'gang', 'showdowns', 'explosions', 'slowly', 'accept', 'having', 'different', 'route', 'walking', 'home', 'night', 'just', 'trivial', 'news', 'stream', 'just', 'scroll', 'shrugging', 'shoulders', 'come', 'denmark', 'want', 'fight', 'cohesion', 'equal', 'opportunities', 'taking', 'integration', 'seriously', 'integration', 'seriously', 'saying', 'number', 'immigrants', 'significance', 'know', 'things', 'simple', 'life', 'complicated', 'statistics', 'real', 'people', 'stories', 'say', 'come', 'denmark', 'given', 'chance', 'live', 'country', 'access', 'free', 'education', 'free', 'healthcare', 'chhance', 'job', 'live', 'peace', 'comes', 'responsibility', 'make', 'use', 'possibilities', 'breach', 'trust', 'government', 'prepared', 'great', 'lengths', 'regards', 'want', 'join', 'community', 'wish', 'denmark', 'say', 'quite', 'clearly', 'population', 'trust', 'lead', 'restrictive', 'immigration', 'policy', 'backed', 'majority', 'need', 'government', 'wants', 'look', 'create', 'tighter', 'legislation', 'regards', 'reckless', 'driving', 'syria', 'warriors', 'banditry', 'rejected', 'asylum', 'home', 'immigration', 'policy', 'restrictive', 'don', 'wrong', 'tightenings', 'target', 'right', 'individuals', 'loosening', 'immigration', 'policies', 'mint', 'given', 'second', 'chance', 'children', 'sjlsmark', 'food', 'family', 'rooms', 'does', 'firm', 'demands', 'integration', 'recognize', 'contrary', 'thousands', 'people', 'come', 'countries', 'learned', 'danish', 'gone', 'school', 'educated', 'work', 'share', 'values', 'want', 'say', 'society', 'contribute', 'community', 'course', 'able', 'trust', 'denmark', 'country', 'prime', 'minister', 'denmark', 'hold', 'unites', 'trust', 'responsibility', 'justice', 'strengthen', 'precious', 'assets', 'welfare', 'fellowship', 'remember', 'world', 'history', 'year', 'commemorate', 'important', 'anniversaries', 'celebrated', 'learn', 'history', '5th', '2020', '75', 'years', 'denmark', 'liberated', 'witnesses', 'world', 'war', 'll', 'longer', 'fewer', 'left', 'tell', 'like', 'europe', 'lifted', 'ground', 'following', 'war', 'despair', 'genocide', 'built', 'peace', 'international', 'rules', 'cooperation', 'trust', 'countries', 'carry', 'forward', 'torch', 'year', 'celebrate', '100th', 'anniversary', 'reunification', 'south', 'jutland', 'denmark', 'means', 'war', 'violence', 'peaceful', 'referendum', 'trust', 'trust', 'source', 'great', 'cooperation', 'border', 'region', 'international', 'role', 'model', 'trust', 'foundation', 'built', 'good', 'solid', 'relations', 'germany', 'trust', 'european', 'cooperation', 'built', 'doubts', 'just', 'look', 'great', 'britain', 'want', 'make', 'political', 'changes', 'europe', 'provide', 'solutions', 'problems', 'time', 'mobility', 'places', 'better', 'market', 'workers', 'tax', 'evasions', 'scale', 'billions', 'speculators', 'step', 'ahead', 'common', 'rules', 'climate', 'solved', 'countries', 'concern', 'europe', 'borders', 'control', 'europe', 'does', 'traffickers', 'make', 'living', 'misery', 'refugees', 'drowning', 'mediterranean', 'sea', 'government', 'wishes', 'help', 'people', 'fleeing', 'war', 'violence', 'help', 'regions', 'origin', 'help', 'wish', 'lead', 'work', 'new', 'asylum', 'just', 'humane', 'bring', 'message', 'brussels', 'refugees', 'come', 'denmark', 'granted', 'asylum', 'return', 'home', 'country', 'help', 'rebuilding', 'soon', 'possible', 'provides', 'space', 'help', 'refugees', 'future', 'government', 'wants', 'danish', 'european', 'policy', 'new', 'progressive', 'direction', 'succeed', 'doing', 'risk', 'trust', 'international', 'cooperation', 'disappears', 'cooperation', 'built', 'order', 'prevent', 'repetition', 'horrors', 'world', 'war', 'equally', 'important', 'today', 'looking', 'spread', 'dissent', 'world', 'torn', 'shall', 'unify', 'climate', 'changes', 'arctic', 'draw', 'greenland', 'faroe', 'islands', 'closer', 'centre', 'global', 'stage', 'understand', 'wish', 'faroe', 'islands', 'greenland', 'involved', 'foreign', 'security', 'policy', 'agree', 'strengthen', 'cooperation', 'share', 'knowledge', 'information', 'countries', 'peoples', 'cultures', 'strong', 'community', 'like', 'extend', 'open', 'invitation', 'cooperate', 'areas', 'mutual', 'benefit', 'like', 'say', 'north', 'atlantic', 'mps', 'folketing', 'government', 'prioritize', 'cooperation', 'involvement', 'faroe', 'islands', 'held', 'parliamentary', 'election', 'new', 'government', 'formed', 'prime', 'minister', 'faroe', 'islands', 'brur', 'steig', 'nielsen', 'agreed', 'visiting', 'faroe', 'islands', 'soon', 'order', 'cooperation', 'initiated', 'look', 'forward', 'things', 'did', 'prime', 'minister', 'visit', 'greenland', 'august', 'premier', 'naalakkersuisut', 'kim', 'kielsen', 'begun', 'cooperation', 'regarding', 'topic', 'deeply', 'affects', 'children', 'greenland', 'new', 'willingness', 'talk', 'problems', 'difficult', 'problems', 'suicide', 'abuse', 'violations', 'greenland', 'asked', 'denmark', 'enter', 'closer', 'cooperation', 'regarding', 'children', 'said', 'yes', 'course', 'said', 'yes', 'vulnerable', 'greenlandic', 'children', 'adolescents', 'better', 'everyday', 'life', 'hope', 'future', 'youth', 'greenland', 'needed', 'representatives', 'beautiful', 'lovely', 'country', 'country', 'entire', 'world', 'like', 'live', 'frontline', 'climate', 'crisis', 'children', 'climate', 'crisis', 'challenges', 'green', 'transition', 'seriously', 'solve', 'problems', 'young', 'generation', 'asked', 'solve', 'letting', 'young', 'people', 'betray', 'faith', 'future', 'opportunity', 'step', 'away', 'responsibility', 'feeding', 'powerlessness', 'instead', 'need', 'responsibility', 'hope', 'act', 'challenge', 'enormous', 'ice', 'melting', 'storms', 'hurricanes', 'insurmountable', 'distant', 'know', 'climate', 'changes', 'progressing', 'quickly', 'beginning', 'moving', 'greater', 'pace', 'parts', 'world', 'massive', 'denmark', 'ambitions', 'climate', 'battle', 'common', 'danish', 'battle', 'children', 'adolescents', 'demand', 'change', 'deliver', 'corporations', 'denmark', 'worlds', 'best', 'green', 'corporations', 'need', 'rest', 'business', 'world', 'follow', 'agriculture', 'industry', 'transportation', 'maritime', 'businesses', 'big', 'business', 'areas', 'committing', 'partnerships', 'business', 'world', 'agreed', 'retirement', 'funds', 'manage', 'money', 'living', 'future', 'makes', 'sense', 'invest', 'money', 'actually', 'future', 'retirement', 'funds', 'secure', 'breath', 'taking', 'sums', 'billions', 'green', 'investments', 'politicians', 'hall', 'decades', 'green', 'transition', 'driven', 'forward', 'legislation', 'christiansborg', 'wind', 'turbines', 'ecology', 'energy', 'efficiency', 'young', 'people', 'businesses', 'way', 'ahead', 'need', 'government', 'radikale', 'sf', 'enhedslisten', 'set', 'historic', 'goal', '2030', 'want', 'reduce', 'emission', 'greenhouse', 'gas', '70', 'percent', 'alternativet', 'alternative', 'parties', 'getting', 'goal', 'conservatives', 'dansk', 'folkeparti', 'danish', 'peoples', 'party', 'liberal', 'alliance', 'looks', 'promising', 'terms', 'green', 'cooperation', 'climate', 'legislation', 'ready', 'christmas', 'climate', 'action', 'plan', 'danish', 'economy', 'based', 'good', 'workplaces', 'important', 'export', 'activities', 'result', 'visionary', 'businesses', 'competent', 'employees', 'result', 'active', 'political', 'decisions', 'courage', 'bet', 'danish', 'positions', 'strength', 'today', 'export', 'billions', 'worth', 'environmental', 'water', 'energy', 'climate', 'technology', 'danish', 'pharmaceutical', 'industry', 'leading', 'position', 'worldwide', 'number', 'years', 'seen', 'budget', 'cuts', 'education', 'research', 'economically', 'responsible', 'need', 'refocus', 'economic', 'policies', 'government', 'spending', 'additional', 'billion', 'kroners', 'green', 'research', 'environment', 'nature', 'environment', 'need', 'clean', 'environment', 'air', 'quality', 'allows', 'breathe', 'freely', 'clean', 'drinking', 'water', 'forests', 'oceans', 'quality', 'life', 'just', 'think', 'today', 'october', '1st', 'going', 'walk', 'woods', 'family', 'friends', 'better', 'plant', 'trees', 'care', 'wildlife', 'stop', 'plastic', 'pollution', 'summer', 'deer', 'himmerland', 'kilos', 'plastic', 'stomach', 'kilos', 'deer', 'eat', 'plastic', 'waste', 'birds', 'fish', 'kind', 'world', 'let', 'enter', 'right', 'contract', 'generations', 'leave', 'nature', 'generation', 'better', 'shape', 'given', 'need', 'live', 'trust', 'children', 'placing', 'terms', 'climate', 'green', 'agenda', 'great', 'ambitions', 'eye', 'jobs', 'economic', 'growth', 'respect', 'society', 'model', 'inequality', 'increases', 'new', 'government', 'new', 'majority', 'make', 'changes', 'greener', 'future', 'welfare', 'new', 'trust', 'fact', 'community', 'works', 'police', 'come', 'need', 'home', 'care', 'time', 'need', 'help', 'parents', 'bring', 'child', 'daycare', 'having', 'worry', 'way', 'working', 'day', 'good', 'safe', 'tax', 'authorities', 'work', 'worn', 'better', 'retirement', 'possibilities', 'tight', 'immigration', 'policy', 'symbolics', 'actually', 'politicians', 'solutions', 'did', 'build', 'denmark', 'dissent', 'inequality', 'greed', 'built', 'denmark', 'opposite', 'caregiving', 'trust', 'community', 'solidarity', 'enthusiasm', 'cooperation', 'strengthen', 'makes', 'denmark', 'denmark', 'look', 'forward', 'cooperation', 'folketing', 'honour', 'promise', 'created', 'safe', 'just', 'greener', 'denmark', 'long', 'live', 'denmark', 'hooray', 'hooray', 'hooray']\n"
     ]
    }
   ],
   "source": [
    "#Read the file and turn it into a list of words\n",
    "word_list = make_wordlist('Speech_2019.txt')\n",
    "#remove stop words from the list\n",
    "word_list = remove_stop_words(word_list, stop_words)\n",
    "#count the frequency of different words\n",
    "word_dict = word_freq(word_list)\n",
    "#sort the list\n",
    "sorted_words = sort_freq_dict(word_dict)\n",
    "print(word_list)\n"
   ]
  },
  {
   "cell_type": "code",
   "execution_count": 20,
   "metadata": {},
   "outputs": [],
   "source": [
    "#Answer to question 2.2.3"
   ]
  },
  {
   "cell_type": "code",
   "execution_count": 21,
   "metadata": {},
   "outputs": [],
   "source": [
    "#Open the file in write mode\n",
    "f = open('Speech_2019_freq.txt','w')\n",
    "\n",
    "#Loop through each tuple and write it as a string, with a new line\n",
    "for word in sorted_words:\n",
    "    f.write(str(word) + \"\\n\")\n",
    "\n",
    "#close the file.\n",
    "f.close()"
   ]
  },
  {
   "cell_type": "markdown",
   "metadata": {},
   "source": [
    "## 2.3 (More) Regular Expressions"
   ]
  },
  {
   "cell_type": "markdown",
   "metadata": {},
   "source": [
    "**Question 2.3.1**: Write a regular expression for a telephone number."
   ]
  },
  {
   "cell_type": "markdown",
   "metadata": {},
   "source": [
    "*Answer to Question 2.3.1* \n",
    "\n",
    "Note this cell is in markdown mode."
   ]
  },
  {
   "cell_type": "markdown",
   "metadata": {},
   "source": [
    "Solution for a Danish telephone number\n",
    "Includes numbers that appear as the following\n",
    "- 11 11 11 11\n",
    "- 11111111\n",
    "- 1111 1111\n",
    "\n",
    "\\d{2}\\s?\\d{2}\\s?\\d{2}\\s?\\d{2}\n"
   ]
  },
  {
   "cell_type": "markdown",
   "metadata": {},
   "source": [
    "**Question 2.3.2**: Write a regular expression for a URL. \n",
    "\n",
    "Note: For this exercise you can use a simple solution that does not account for all possible conditions, but will capture most URLs."
   ]
  },
  {
   "cell_type": "markdown",
   "metadata": {},
   "source": [
    "*Answer to Question 2.3.2* \n",
    "\n",
    "Note this cell is in markdown mode."
   ]
  },
  {
   "cell_type": "markdown",
   "metadata": {},
   "source": [
    "https?\\:\\/\\/(^\\s)+"
   ]
  },
  {
   "cell_type": "markdown",
   "metadata": {},
   "source": [
    "## 2.4 Reflection\n",
    "**Question 2.4.1**: Write a brief paragraph reflecting on your experience learning programming today. What did you struggle with? What did you enjoy? What surprised you?"
   ]
  },
  {
   "cell_type": "markdown",
   "metadata": {},
   "source": [
    "We did exciting things in this exercise! Good work!\n",
    "<img src=\"./octocat.png\" />"
   ]
  },
  {
   "cell_type": "code",
   "execution_count": null,
   "metadata": {},
   "outputs": [],
   "source": []
  }
 ],
 "metadata": {
  "kernelspec": {
   "display_name": "Python 3",
   "language": "python",
   "name": "python3"
  },
  "language_info": {
   "codemirror_mode": {
    "name": "ipython",
    "version": 3
   },
   "file_extension": ".py",
   "mimetype": "text/x-python",
   "name": "python",
   "nbconvert_exporter": "python",
   "pygments_lexer": "ipython3",
   "version": "3.7.4"
  }
 },
 "nbformat": 4,
 "nbformat_minor": 2
}
