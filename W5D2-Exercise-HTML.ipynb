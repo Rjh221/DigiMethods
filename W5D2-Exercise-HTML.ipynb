{
 "cells": [
  {
   "cell_type": "markdown",
   "metadata": {},
   "source": [
    "# Data formats and open data\n",
    "**Exercises for week 5B** in Digital Methods, University of Copenhagen"
   ]
  },
  {
   "cell_type": "markdown",
   "metadata": {},
   "source": [
    "## 1. HTML"
   ]
  },
  {
   "cell_type": "markdown",
   "metadata": {},
   "source": [
    "HTML is the markup language used by web pages. It's ubiquitous on the web; even when editing this notebook you are interacting with HTML (right click and hit \"View Page Source\" if you need proof). Here follows some exercises to get you comfortable with navigating HTML on web pages."
   ]
  },
  {
   "cell_type": "markdown",
   "metadata": {},
   "source": [
    "> **Ex. 1**: Right click inside the cell below and hit \"Inspect\". This should launch the \"Inspector\" tool in your browser, showing you where the element that renders the cell sits inside the DOM.\n",
    "1. How deeply is it nested? Are there any sibling elements? We counted seven parents and three siblings\n",
    "2. What happens when you update it? Change the text and see for yourself.\n",
    ">\n",
    "> *Hint: Most modern browsers (e.g. Firefox, Chrome, Brave) will let you hover elements in the DOM to show where they display on the web page.*"
   ]
  },
  {
   "cell_type": "markdown",
   "metadata": {},
   "source": [
    "*HTML is a beautiful soup of hypertext!*"
   ]
  },
  {
   "cell_type": "markdown",
   "metadata": {},
   "source": [
    "> **Ex. 2**: In the HTML code below:\n",
    "1. What is typically the use of the `<p>`, `<h1>` and `<h2>` tags? Look them up, what are they for?\n",
    "2. What are the attributes of the `div` element?\n",
    "3. Create a text file that ends with \".html\" and open it in a browser."
   ]
  },
  {
   "cell_type": "markdown",
   "metadata": {},
   "source": [
    "    <html>\n",
    "    <body>\n",
    "\n",
    "    <div width=200 height=100 id=\"main\">\n",
    "        <h1>This is the main title of the webpage</h1>\n",
    "        <h2>This is a sub-heading</h2>\n",
    "        <p>This is a paragraph of text.</p>\n",
    "    </div>\n",
    "\n",
    "    <h2>This is another sub-heading</h2>\n",
    "    <p>This is a paragraph of text with some words in bold.</p>\n",
    "    <img src=\"https://external-content.duckduckgo.com/iu/?u=https%3A%2F%2Fmedia.giphy.com%2Fmedia%2FkFgzrTt798d2w%2Fgiphy.gif&f=1&nofb=1\" width=\"493\" height=\"340\">\n",
    "    <p>And that just above is an image.</p>\n",
    "\n",
    "    </body>\n",
    "    </html>\n"
   ]
  },
  {
   "cell_type": "markdown",
   "metadata": {},
   "source": [
    "> **Ex. 3**: Using the `requests` module, download [this web page](https://www.boliga.dk/resultat?propertyType=3&zipCodes=2200&page=1). Print the first 100 lines of the html string. How many lines are there in total?\n",
    ">\n",
    "> *Hint: use the `requests.get` method. To figure out how it works, execute `?requests.get` (after importing `requests`), this displays the module documentation.*"
   ]
  },
  {
   "cell_type": "code",
   "execution_count": 1,
   "metadata": {},
   "outputs": [],
   "source": [
    "from bs4 import BeautifulSoup\n",
    "import requests as rq\n",
    "url=\"https://www.boliga.dk/resultat?propertyType=3&zipCodes=2200&page=1\"\n",
    "r=rq.get(url).text"
   ]
  },
  {
   "cell_type": "code",
   "execution_count": 2,
   "metadata": {},
   "outputs": [
    {
     "data": {
      "text/plain": [
       "678943"
      ]
     },
     "execution_count": 2,
     "metadata": {},
     "output_type": "execute_result"
    }
   ],
   "source": [
    "len(r)"
   ]
  },
  {
   "cell_type": "code",
   "execution_count": 3,
   "metadata": {},
   "outputs": [],
   "source": [
    "splitted=r.split('\\n')"
   ]
  },
  {
   "cell_type": "code",
   "execution_count": 4,
   "metadata": {},
   "outputs": [
    {
     "data": {
      "text/plain": [
       "2368"
      ]
     },
     "execution_count": 4,
     "metadata": {},
     "output_type": "execute_result"
    }
   ],
   "source": [
    "len(splitted) #is the number of lines!"
   ]
  },
  {
   "cell_type": "code",
   "execution_count": 5,
   "metadata": {},
   "outputs": [
    {
     "data": {
      "text/plain": [
       "\"  <script>(function(w,d,s,l,i){w[l]=w[l]||[];w[l].push({'gtm.start':\""
      ]
     },
     "execution_count": 5,
     "metadata": {},
     "output_type": "execute_result"
    }
   ],
   "source": [
    "splitted[2]"
   ]
  },
  {
   "cell_type": "code",
   "execution_count": 6,
   "metadata": {},
   "outputs": [],
   "source": [
    "er_det_hundrede=splitted[0:100]"
   ]
  },
  {
   "cell_type": "code",
   "execution_count": 7,
   "metadata": {},
   "outputs": [
    {
     "data": {
      "text/plain": [
       "100"
      ]
     },
     "execution_count": 7,
     "metadata": {},
     "output_type": "execute_result"
    }
   ],
   "source": [
    "len(er_det_hundrede)"
   ]
  },
  {
   "cell_type": "code",
   "execution_count": 8,
   "metadata": {},
   "outputs": [],
   "source": [
    "#if you want to solve the assignment, write\n",
    "#print(er_det_hundrede)"
   ]
  },
  {
   "cell_type": "markdown",
   "metadata": {},
   "source": [
    "## 1.2 Scraping"
   ]
  },
  {
   "cell_type": "markdown",
   "metadata": {},
   "source": [
    "*Scraping* means to parse HTML and collect the important pieces of information inside. *Crawling* is\n",
    "another important contect, and the word refers to automatically sifting through pages of the web and scraping\n",
    "information on each page. 90% of scraping and crawling work can be done using the two modules `requests` and\n",
    "`BeautifulSoup`."
   ]
  },
  {
   "cell_type": "markdown",
   "metadata": {},
   "source": [
    "> **Ex. 4:** Load the toy example HTML with BeautifulSoup. Use the [documentation page](https://www.crummy.com/software/BeautifulSoup/bs4/doc/) for reference on how to do this.\n",
    "1. Access the `h1` element inside the `div` and print out its content (which is \"This is the main title of the webpage\").\n",
    "2. Get the value of the `src` attribute inside the `img` element.\n",
    "3. Get the second subheading that contains \"This is another sub-heading\" and print out that content.\n",
    "4. Get the `div` element by searching for its id."
   ]
  },
  {
   "cell_type": "code",
   "execution_count": 9,
   "metadata": {},
   "outputs": [],
   "source": [
    "import requests as rq\n",
    "url1=\"\"\"    <html>\n",
    "    <body>\n",
    "\n",
    "    <div width=200 height=100 id=\"main\">\n",
    "        <h1>This is the main title of the webpage</h1>\n",
    "        <h2>This is a sub-heading</h2>\n",
    "        <p>This is a paragraph of text.</p>\n",
    "    </div>\n",
    "\n",
    "    <h2>This is another sub-heading</h2>\n",
    "    <p>This is a paragraph of text with some words in bold.</p>\n",
    "    <img src=\"https://external-content.duckduckgo.com/iu/?u=https%3A%2F%2Fmedia.giphy.com%2Fmedia%2FkFgzrTt798d2w%2Fgiphy.gif&f=1&nofb=1\" width=\"493\" height=\"340\">\n",
    "    <p>And that just above is an image.</p>\n",
    "\n",
    "    </body>\n",
    "    </html>\n",
    "\n",
    "</html>\"\"\"\n",
    "soup=BeautifulSoup(url1,\"html.parser\")"
   ]
  },
  {
   "cell_type": "code",
   "execution_count": 10,
   "metadata": {},
   "outputs": [
    {
     "name": "stdout",
     "output_type": "stream",
     "text": [
      "<html>\n",
      " <body>\n",
      "  <div height=\"100\" id=\"main\" width=\"200\">\n",
      "   <h1>\n",
      "    This is the main title of the webpage\n",
      "   </h1>\n",
      "   <h2>\n",
      "    This is a sub-heading\n",
      "   </h2>\n",
      "   <p>\n",
      "    This is a paragraph of text.\n",
      "   </p>\n",
      "  </div>\n",
      "  <h2>\n",
      "   This is another sub-heading\n",
      "  </h2>\n",
      "  <p>\n",
      "   This is a paragraph of text with some words in bold.\n",
      "  </p>\n",
      "  <img height=\"340\" src=\"https://external-content.duckduckgo.com/iu/?u=https%3A%2F%2Fmedia.giphy.com%2Fmedia%2FkFgzrTt798d2w%2Fgiphy.gif&amp;f=1&amp;nofb=1\" width=\"493\"/>\n",
      "  <p>\n",
      "   And that just above is an image.\n",
      "  </p>\n",
      " </body>\n",
      "</html>\n",
      "\n"
     ]
    }
   ],
   "source": [
    "print(soup.prettify())"
   ]
  },
  {
   "cell_type": "code",
   "execution_count": 11,
   "metadata": {},
   "outputs": [
    {
     "data": {
      "text/plain": [
       "'This is the main title of the webpage'"
      ]
     },
     "execution_count": 11,
     "metadata": {},
     "output_type": "execute_result"
    }
   ],
   "source": [
    "soup.h1.string #Assignment 1"
   ]
  },
  {
   "cell_type": "code",
   "execution_count": 12,
   "metadata": {},
   "outputs": [
    {
     "data": {
      "text/plain": [
       "'https://external-content.duckduckgo.com/iu/?u=https%3A%2F%2Fmedia.giphy.com%2Fmedia%2FkFgzrTt798d2w%2Fgiphy.gif&f=1&nofb=1'"
      ]
     },
     "execution_count": 12,
     "metadata": {},
     "output_type": "execute_result"
    }
   ],
   "source": [
    "soup.img[\"src\"] #sweet, assignment 2"
   ]
  },
  {
   "cell_type": "code",
   "execution_count": 13,
   "metadata": {},
   "outputs": [
    {
     "data": {
      "text/plain": [
       "<h2>This is another sub-heading</h2>"
      ]
     },
     "execution_count": 13,
     "metadata": {},
     "output_type": "execute_result"
    }
   ],
   "source": [
    "soup.find_all(\"h2\")[1] #boojaaaa assignment 3"
   ]
  },
  {
   "cell_type": "code",
   "execution_count": 14,
   "metadata": {},
   "outputs": [
    {
     "data": {
      "text/plain": [
       "<div height=\"100\" id=\"main\" width=\"200\">\n",
       "<h1>This is the main title of the webpage</h1>\n",
       "<h2>This is a sub-heading</h2>\n",
       "<p>This is a paragraph of text.</p>\n",
       "</div>"
      ]
     },
     "execution_count": 14,
     "metadata": {},
     "output_type": "execute_result"
    }
   ],
   "source": [
    "soup.find(id=\"main\") #assignment 4"
   ]
  },
  {
   "cell_type": "markdown",
   "metadata": {},
   "source": [
    "> **Ex. 5** Load the HTML you downloaded in Ex. 3. For each post, extract price, square meter size and \"Ejerudgift\". You should create three different lists that contain each variable across posts."
   ]
  },
  {
   "cell_type": "code",
   "execution_count": 15,
   "metadata": {},
   "outputs": [],
   "source": [
    "import requests as rq\n",
    "from bs4 import BeautifulSoup\n",
    "#... to begin our work with online material and BeautifulSoup!"
   ]
  },
  {
   "cell_type": "code",
   "execution_count": 16,
   "metadata": {},
   "outputs": [],
   "source": [
    "#Our link was called r:\n",
    "soup2=BeautifulSoup(r,\"html.parser\")"
   ]
  },
  {
   "cell_type": "code",
   "execution_count": null,
   "metadata": {},
   "outputs": [],
   "source": []
  },
  {
   "cell_type": "code",
   "execution_count": 17,
   "metadata": {},
   "outputs": [
    {
     "data": {
      "text/plain": [
       "[<div _ngcontent-sc52=\"\" class=\"primary-value d-flex justify-content-end\"><app-tooltip _ngcontent-sc52=\"\" _nghost-sc40=\"\" class=\"ml-2 md-right d-flex\"><!-- --><p _ngcontent-sc40=\"\" class=\"app-tooltip\"><!-- --><!-- --> Pris er faldet <!-- --><!-- --></p><!-- --></app-tooltip> 2.495.000 kr. </div>,\n",
       " <div _ngcontent-sc52=\"\" class=\"primary-value d-flex justify-content-end\"><app-tooltip _ngcontent-sc52=\"\" _nghost-sc40=\"\" class=\"ml-2 md-right d-flex\"><!-- --><p _ngcontent-sc40=\"\" class=\"app-tooltip\"><!-- --><!-- --> Pris er faldet <!-- --><!-- --></p><!-- --></app-tooltip> 8.300.000 kr. </div>,\n",
       " <div _ngcontent-sc52=\"\" class=\"primary-value d-flex justify-content-end\"><app-tooltip _ngcontent-sc52=\"\" _nghost-sc40=\"\" class=\"ml-2 md-right d-flex\"><!-- --><p _ngcontent-sc40=\"\" class=\"app-tooltip\"><!-- --><!-- --> Pris er faldet <!-- --><!-- --></p><!-- --></app-tooltip> 1.345.000 kr. </div>,\n",
       " <div _ngcontent-sc52=\"\" class=\"primary-value d-flex justify-content-end\"><app-tooltip _ngcontent-sc52=\"\" _nghost-sc40=\"\" class=\"ml-2 md-right d-flex\"><!-- --><p _ngcontent-sc40=\"\" class=\"app-tooltip\"><!-- --><!-- --> Pris er faldet <!-- --><!-- --></p><!-- --></app-tooltip> 1.398.000 kr. </div>,\n",
       " <div _ngcontent-sc52=\"\" class=\"primary-value d-flex justify-content-end\"><app-tooltip _ngcontent-sc52=\"\" _nghost-sc40=\"\" class=\"ml-2 md-right d-flex\"><!-- --><p _ngcontent-sc40=\"\" class=\"app-tooltip\"><!-- --><!-- --> Pris er faldet <!-- --><!-- --></p><!-- --><app-badge _ngcontent-sc52=\"\" _nghost-sc15=\"\" aria-describedby=\"cdk-describedby-message-457594\" cdk-describedby-host=\"\" class=\"px-3\"><span _ngcontent-sc15=\"\" class=\"badge secondary small\"> -5% </span></app-badge><!-- --></app-tooltip> 1.445.000 kr. </div>,\n",
       " <div _ngcontent-sc52=\"\" class=\"primary-value d-flex justify-content-end\"><app-tooltip _ngcontent-sc52=\"\" _nghost-sc40=\"\" class=\"ml-2 md-right d-flex\"><!-- --><p _ngcontent-sc40=\"\" class=\"app-tooltip\"><!-- --><!-- --> Pris er faldet <!-- --><!-- --></p><!-- --></app-tooltip> 1.495.000 kr. </div>,\n",
       " <div _ngcontent-sc52=\"\" class=\"primary-value d-flex justify-content-end\"><app-tooltip _ngcontent-sc52=\"\" _nghost-sc40=\"\" class=\"ml-2 md-right d-flex\"><!-- --><p _ngcontent-sc40=\"\" class=\"app-tooltip\"><!-- --><!-- --> Pris er faldet <!-- --><!-- --></p><!-- --></app-tooltip> 1.495.000 kr. </div>,\n",
       " <div _ngcontent-sc52=\"\" class=\"primary-value d-flex justify-content-end\"><app-tooltip _ngcontent-sc52=\"\" _nghost-sc40=\"\" class=\"ml-2 md-right d-flex\"><!-- --><p _ngcontent-sc40=\"\" class=\"app-tooltip\"><!-- --><!-- --> Pris er faldet <!-- --><!-- --></p><!-- --></app-tooltip> 1.495.000 kr. </div>,\n",
       " <div _ngcontent-sc52=\"\" class=\"primary-value d-flex justify-content-end\"><app-tooltip _ngcontent-sc52=\"\" _nghost-sc40=\"\" class=\"ml-2 md-right d-flex\"><!-- --><p _ngcontent-sc40=\"\" class=\"app-tooltip\"><!-- --><!-- --> Pris er faldet <!-- --><!-- --></p><!-- --><app-badge _ngcontent-sc52=\"\" _nghost-sc15=\"\" aria-describedby=\"cdk-describedby-message-457594\" cdk-describedby-host=\"\" class=\"px-3\"><span _ngcontent-sc15=\"\" class=\"badge secondary small\"> -7% </span></app-badge><!-- --></app-tooltip> 1.575.000 kr. </div>,\n",
       " <div _ngcontent-sc52=\"\" class=\"primary-value d-flex justify-content-end\"><app-tooltip _ngcontent-sc52=\"\" _nghost-sc40=\"\" class=\"ml-2 md-right d-flex\"><!-- --><p _ngcontent-sc40=\"\" class=\"app-tooltip\"><!-- --><!-- --> Pris er faldet <!-- --><!-- --></p><!-- --></app-tooltip> 1.595.000 kr. </div>,\n",
       " <div _ngcontent-sc52=\"\" class=\"primary-value d-flex justify-content-end\"><app-tooltip _ngcontent-sc52=\"\" _nghost-sc40=\"\" class=\"ml-2 md-right d-flex\"><!-- --><p _ngcontent-sc40=\"\" class=\"app-tooltip\"><!-- --><!-- --> Pris er faldet <!-- --><!-- --></p><!-- --></app-tooltip> 1.595.000 kr. </div>,\n",
       " <div _ngcontent-sc52=\"\" class=\"primary-value d-flex justify-content-end\"><app-tooltip _ngcontent-sc52=\"\" _nghost-sc40=\"\" class=\"ml-2 md-right d-flex\"><!-- --><p _ngcontent-sc40=\"\" class=\"app-tooltip\"><!-- --><!-- --> Pris er faldet <!-- --><!-- --></p><!-- --><app-badge _ngcontent-sc52=\"\" _nghost-sc15=\"\" aria-describedby=\"cdk-describedby-message-457594\" cdk-describedby-host=\"\" class=\"px-3\"><span _ngcontent-sc15=\"\" class=\"badge secondary small\"> -12% </span></app-badge><!-- --></app-tooltip> 1.750.000 kr. </div>,\n",
       " <div _ngcontent-sc52=\"\" class=\"primary-value d-flex justify-content-end\"><app-tooltip _ngcontent-sc52=\"\" _nghost-sc40=\"\" class=\"ml-2 md-right d-flex\"><!-- --><p _ngcontent-sc40=\"\" class=\"app-tooltip\"><!-- --><!-- --> Pris er faldet <!-- --><!-- --></p><!-- --></app-tooltip> 1.750.000 kr. </div>,\n",
       " <div _ngcontent-sc52=\"\" class=\"primary-value d-flex justify-content-end\"><app-tooltip _ngcontent-sc52=\"\" _nghost-sc40=\"\" class=\"ml-2 md-right d-flex\"><!-- --><p _ngcontent-sc40=\"\" class=\"app-tooltip\"><!-- --><!-- --> Pris er faldet <!-- --><!-- --></p><!-- --></app-tooltip> 1.795.000 kr. </div>,\n",
       " <div _ngcontent-sc52=\"\" class=\"primary-value d-flex justify-content-end\"><app-tooltip _ngcontent-sc52=\"\" _nghost-sc40=\"\" class=\"ml-2 md-right d-flex\"><!-- --><p _ngcontent-sc40=\"\" class=\"app-tooltip\"><!-- --><!-- --> Pris er faldet <!-- --><!-- --></p><!-- --><app-badge _ngcontent-sc52=\"\" _nghost-sc15=\"\" aria-describedby=\"cdk-describedby-message-457594\" cdk-describedby-host=\"\" class=\"px-3\"><span _ngcontent-sc15=\"\" class=\"badge secondary small\"> -5% </span></app-badge><!-- --></app-tooltip> 1.795.000 kr. </div>,\n",
       " <div _ngcontent-sc52=\"\" class=\"primary-value d-flex justify-content-end\"><app-tooltip _ngcontent-sc52=\"\" _nghost-sc40=\"\" class=\"ml-2 md-right d-flex\"><!-- --><p _ngcontent-sc40=\"\" class=\"app-tooltip\"><!-- --><!-- --> Pris er faldet <!-- --><!-- --></p><!-- --></app-tooltip> 1.795.000 kr. </div>,\n",
       " <div _ngcontent-sc52=\"\" class=\"primary-value d-flex justify-content-end\"><app-tooltip _ngcontent-sc52=\"\" _nghost-sc40=\"\" class=\"ml-2 md-right d-flex\"><!-- --><p _ngcontent-sc40=\"\" class=\"app-tooltip\"><!-- --><!-- --> Pris er faldet <!-- --><!-- --></p><!-- --></app-tooltip> 1.795.000 kr. </div>,\n",
       " <div _ngcontent-sc52=\"\" class=\"primary-value d-flex justify-content-end\"><app-tooltip _ngcontent-sc52=\"\" _nghost-sc40=\"\" class=\"ml-2 md-right d-flex\"><!-- --><p _ngcontent-sc40=\"\" class=\"app-tooltip\"><!-- --><!-- --> Pris er faldet <!-- --><!-- --></p><!-- --></app-tooltip> 1.845.000 kr. </div>,\n",
       " <div _ngcontent-sc52=\"\" class=\"primary-value d-flex justify-content-end\"><app-tooltip _ngcontent-sc52=\"\" _nghost-sc40=\"\" class=\"ml-2 md-right d-flex\"><!-- --><p _ngcontent-sc40=\"\" class=\"app-tooltip\"><!-- --><!-- --> Pris er faldet <!-- --><!-- --></p><!-- --></app-tooltip> 1.895.000 kr. </div>,\n",
       " <div _ngcontent-sc52=\"\" class=\"primary-value d-flex justify-content-end\"><app-tooltip _ngcontent-sc52=\"\" _nghost-sc40=\"\" class=\"ml-2 md-right d-flex\"><!-- --><p _ngcontent-sc40=\"\" class=\"app-tooltip\"><!-- --><!-- --> Pris er faldet <!-- --><!-- --></p><!-- --></app-tooltip> 1.895.000 kr. </div>,\n",
       " <div _ngcontent-sc52=\"\" class=\"primary-value d-flex justify-content-end\"><app-tooltip _ngcontent-sc52=\"\" _nghost-sc40=\"\" class=\"ml-2 md-right d-flex\"><!-- --><p _ngcontent-sc40=\"\" class=\"app-tooltip\"><!-- --><!-- --> Pris er faldet <!-- --><!-- --></p><!-- --><app-badge _ngcontent-sc52=\"\" _nghost-sc15=\"\" aria-describedby=\"cdk-describedby-message-457594\" cdk-describedby-host=\"\" class=\"px-3\"><span _ngcontent-sc15=\"\" class=\"badge secondary small\"> -16% </span></app-badge><!-- --></app-tooltip> 1.898.000 kr. </div>,\n",
       " <div _ngcontent-sc52=\"\" class=\"primary-value d-flex justify-content-end\"><app-tooltip _ngcontent-sc52=\"\" _nghost-sc40=\"\" class=\"ml-2 md-right d-flex\"><!-- --><p _ngcontent-sc40=\"\" class=\"app-tooltip\"><!-- --><!-- --> Pris er faldet <!-- --><!-- --></p><!-- --><app-badge _ngcontent-sc52=\"\" _nghost-sc15=\"\" aria-describedby=\"cdk-describedby-message-457594\" cdk-describedby-host=\"\" class=\"px-3\"><span _ngcontent-sc15=\"\" class=\"badge secondary small\"> -5% </span></app-badge><!-- --></app-tooltip> 1.898.000 kr. </div>,\n",
       " <div _ngcontent-sc52=\"\" class=\"primary-value d-flex justify-content-end\"><app-tooltip _ngcontent-sc52=\"\" _nghost-sc40=\"\" class=\"ml-2 md-right d-flex\"><!-- --><p _ngcontent-sc40=\"\" class=\"app-tooltip\"><!-- --><!-- --> Pris er faldet <!-- --><!-- --></p><!-- --></app-tooltip> 1.975.000 kr. </div>,\n",
       " <div _ngcontent-sc52=\"\" class=\"primary-value d-flex justify-content-end\"><app-tooltip _ngcontent-sc52=\"\" _nghost-sc40=\"\" class=\"ml-2 md-right d-flex\"><!-- --><p _ngcontent-sc40=\"\" class=\"app-tooltip\"><!-- --><!-- --> Pris er faldet <!-- --><!-- --></p><!-- --></app-tooltip> 1.995.000 kr. </div>,\n",
       " <div _ngcontent-sc52=\"\" class=\"primary-value d-flex justify-content-end\"><app-tooltip _ngcontent-sc52=\"\" _nghost-sc40=\"\" class=\"ml-2 md-right d-flex\"><!-- --><p _ngcontent-sc40=\"\" class=\"app-tooltip\"><!-- --><!-- --> Pris er faldet <!-- --><!-- --></p><!-- --></app-tooltip> 1.999.000 kr. </div>,\n",
       " <div _ngcontent-sc52=\"\" class=\"primary-value d-flex justify-content-end\"><app-tooltip _ngcontent-sc52=\"\" _nghost-sc40=\"\" class=\"ml-2 md-right d-flex\"><!-- --><p _ngcontent-sc40=\"\" class=\"app-tooltip\"><!-- --><!-- --> Pris er faldet <!-- --><!-- --></p><!-- --><app-badge _ngcontent-sc52=\"\" _nghost-sc15=\"\" aria-describedby=\"cdk-describedby-message-457594\" cdk-describedby-host=\"\" class=\"px-3\"><span _ngcontent-sc15=\"\" class=\"badge secondary small\"> -2% </span></app-badge><!-- --></app-tooltip> 2.045.000 kr. </div>,\n",
       " <div _ngcontent-sc52=\"\" class=\"primary-value d-flex justify-content-end\"><app-tooltip _ngcontent-sc52=\"\" _nghost-sc40=\"\" class=\"ml-2 md-right d-flex\"><!-- --><p _ngcontent-sc40=\"\" class=\"app-tooltip\"><!-- --><!-- --> Pris er faldet <!-- --><!-- --></p><!-- --></app-tooltip> 2.095.000 kr. </div>,\n",
       " <div _ngcontent-sc52=\"\" class=\"primary-value d-flex justify-content-end\"><app-tooltip _ngcontent-sc52=\"\" _nghost-sc40=\"\" class=\"ml-2 md-right d-flex\"><!-- --><p _ngcontent-sc40=\"\" class=\"app-tooltip\"><!-- --><!-- --> Pris er faldet <!-- --><!-- --></p><!-- --><app-badge _ngcontent-sc52=\"\" _nghost-sc15=\"\" aria-describedby=\"cdk-describedby-message-457594\" cdk-describedby-host=\"\" class=\"px-3\"><span _ngcontent-sc15=\"\" class=\"badge secondary small\"> -4% </span></app-badge><!-- --></app-tooltip> 2.099.999 kr. </div>,\n",
       " <div _ngcontent-sc52=\"\" class=\"primary-value d-flex justify-content-end\"><app-tooltip _ngcontent-sc52=\"\" _nghost-sc40=\"\" class=\"ml-2 md-right d-flex\"><!-- --><p _ngcontent-sc40=\"\" class=\"app-tooltip\"><!-- --><!-- --> Pris er faldet <!-- --><!-- --></p><!-- --></app-tooltip> 2.145.000 kr. </div>,\n",
       " <div _ngcontent-sc52=\"\" class=\"primary-value d-flex justify-content-end\"><app-tooltip _ngcontent-sc52=\"\" _nghost-sc40=\"\" class=\"ml-2 md-right d-flex\"><!-- --><p _ngcontent-sc40=\"\" class=\"app-tooltip\"><!-- --><!-- --> Pris er faldet <!-- --><!-- --></p><!-- --></app-tooltip> 2.198.000 kr. </div>,\n",
       " <div _ngcontent-sc52=\"\" class=\"primary-value d-flex justify-content-end\"><app-tooltip _ngcontent-sc52=\"\" _nghost-sc40=\"\" class=\"ml-2 md-right d-flex\"><!-- --><p _ngcontent-sc40=\"\" class=\"app-tooltip\"><!-- --><!-- --> Pris er faldet <!-- --><!-- --></p><!-- --><app-badge _ngcontent-sc52=\"\" _nghost-sc15=\"\" aria-describedby=\"cdk-describedby-message-457594\" cdk-describedby-host=\"\" class=\"px-3\"><span _ngcontent-sc15=\"\" class=\"badge secondary small\"> -4% </span></app-badge><!-- --></app-tooltip> 2.199.000 kr. </div>,\n",
       " <div _ngcontent-sc52=\"\" class=\"primary-value d-flex justify-content-end\"><app-tooltip _ngcontent-sc52=\"\" _nghost-sc40=\"\" class=\"ml-2 md-right d-flex\"><!-- --><p _ngcontent-sc40=\"\" class=\"app-tooltip\"><!-- --><!-- --> Pris er faldet <!-- --><!-- --></p><!-- --><app-badge _ngcontent-sc52=\"\" _nghost-sc15=\"\" aria-describedby=\"cdk-describedby-message-457594\" cdk-describedby-host=\"\" class=\"px-3\"><span _ngcontent-sc15=\"\" class=\"badge secondary small\"> -2% </span></app-badge><!-- --></app-tooltip> 2.248.000 kr. </div>,\n",
       " <div _ngcontent-sc52=\"\" class=\"primary-value d-flex justify-content-end\"><app-tooltip _ngcontent-sc52=\"\" _nghost-sc40=\"\" class=\"ml-2 md-right d-flex\"><!-- --><p _ngcontent-sc40=\"\" class=\"app-tooltip\"><!-- --><!-- --> Pris er faldet <!-- --><!-- --></p><!-- --><app-badge _ngcontent-sc52=\"\" _nghost-sc15=\"\" aria-describedby=\"cdk-describedby-message-457594\" cdk-describedby-host=\"\" class=\"px-3\"><span _ngcontent-sc15=\"\" class=\"badge secondary small\"> -4% </span></app-badge><!-- --></app-tooltip> 2.295.000 kr. </div>,\n",
       " <div _ngcontent-sc52=\"\" class=\"primary-value d-flex justify-content-end\"><app-tooltip _ngcontent-sc52=\"\" _nghost-sc40=\"\" class=\"ml-2 md-right d-flex\"><!-- --><p _ngcontent-sc40=\"\" class=\"app-tooltip\"><!-- --><!-- --> Pris er faldet <!-- --><!-- --></p><!-- --></app-tooltip> 2.295.000 kr. </div>,\n",
       " <div _ngcontent-sc52=\"\" class=\"primary-value d-flex justify-content-end\"><app-tooltip _ngcontent-sc52=\"\" _nghost-sc40=\"\" class=\"ml-2 md-right d-flex\"><!-- --><p _ngcontent-sc40=\"\" class=\"app-tooltip\"><!-- --><!-- --> Pris er faldet <!-- --><!-- --></p><!-- --></app-tooltip> 2.295.000 kr. </div>,\n",
       " <div _ngcontent-sc52=\"\" class=\"primary-value d-flex justify-content-end\"><app-tooltip _ngcontent-sc52=\"\" _nghost-sc40=\"\" class=\"ml-2 md-right d-flex\"><!-- --><p _ngcontent-sc40=\"\" class=\"app-tooltip\"><!-- --><!-- --> Pris er faldet <!-- --><!-- --></p><!-- --><app-badge _ngcontent-sc52=\"\" _nghost-sc15=\"\" aria-describedby=\"cdk-describedby-message-457594\" cdk-describedby-host=\"\" class=\"px-3\"><span _ngcontent-sc15=\"\" class=\"badge secondary small\"> -4% </span></app-badge><!-- --></app-tooltip> 2.298.000 kr. </div>,\n",
       " <div _ngcontent-sc52=\"\" class=\"primary-value d-flex justify-content-end\"><app-tooltip _ngcontent-sc52=\"\" _nghost-sc40=\"\" class=\"ml-2 md-right d-flex\"><!-- --><p _ngcontent-sc40=\"\" class=\"app-tooltip\"><!-- --><!-- --> Pris er steget <!-- --><!-- --></p><!-- --><app-badge _ngcontent-sc52=\"\" _nghost-sc15=\"\" aria-describedby=\"cdk-describedby-message-457595\" cdk-describedby-host=\"\" class=\"px-3\"><span _ngcontent-sc15=\"\" class=\"badge success small\"> 5% </span></app-badge><!-- --></app-tooltip> 2.299.000 kr. </div>,\n",
       " <div _ngcontent-sc52=\"\" class=\"primary-value d-flex justify-content-end\"><app-tooltip _ngcontent-sc52=\"\" _nghost-sc40=\"\" class=\"ml-2 md-right d-flex\"><!-- --><p _ngcontent-sc40=\"\" class=\"app-tooltip\"><!-- --><!-- --> Pris er faldet <!-- --><!-- --></p><!-- --></app-tooltip> 2.345.000 kr. </div>,\n",
       " <div _ngcontent-sc52=\"\" class=\"primary-value d-flex justify-content-end\"><app-tooltip _ngcontent-sc52=\"\" _nghost-sc40=\"\" class=\"ml-2 md-right d-flex\"><!-- --><p _ngcontent-sc40=\"\" class=\"app-tooltip\"><!-- --><!-- --> Pris er faldet <!-- --><!-- --></p><!-- --></app-tooltip> 2.345.000 kr. </div>,\n",
       " <div _ngcontent-sc52=\"\" class=\"primary-value d-flex justify-content-end\"><app-tooltip _ngcontent-sc52=\"\" _nghost-sc40=\"\" class=\"ml-2 md-right d-flex\"><!-- --><p _ngcontent-sc40=\"\" class=\"app-tooltip\"><!-- --><!-- --> Pris er faldet <!-- --><!-- --></p><!-- --><app-badge _ngcontent-sc52=\"\" _nghost-sc15=\"\" aria-describedby=\"cdk-describedby-message-457594\" cdk-describedby-host=\"\" class=\"px-3\"><span _ngcontent-sc15=\"\" class=\"badge secondary small\"> -4% </span></app-badge><!-- --></app-tooltip> 2.395.000 kr. </div>,\n",
       " <div _ngcontent-sc52=\"\" class=\"primary-value d-flex justify-content-end\"><app-tooltip _ngcontent-sc52=\"\" _nghost-sc40=\"\" class=\"ml-2 md-right d-flex\"><!-- --><p _ngcontent-sc40=\"\" class=\"app-tooltip\"><!-- --><!-- --> Pris er faldet <!-- --><!-- --></p><!-- --><app-badge _ngcontent-sc52=\"\" _nghost-sc15=\"\" aria-describedby=\"cdk-describedby-message-457594\" cdk-describedby-host=\"\" class=\"px-3\"><span _ngcontent-sc15=\"\" class=\"badge secondary small\"> -4% </span></app-badge><!-- --></app-tooltip> 2.395.000 kr. </div>,\n",
       " <div _ngcontent-sc52=\"\" class=\"primary-value d-flex justify-content-end\"><app-tooltip _ngcontent-sc52=\"\" _nghost-sc40=\"\" class=\"ml-2 md-right d-flex\"><!-- --><p _ngcontent-sc40=\"\" class=\"app-tooltip\"><!-- --><!-- --> Pris er faldet <!-- --><!-- --></p><!-- --></app-tooltip> 2.395.000 kr. </div>,\n",
       " <div _ngcontent-sc52=\"\" class=\"primary-value d-flex justify-content-end\"><app-tooltip _ngcontent-sc52=\"\" _nghost-sc40=\"\" class=\"ml-2 md-right d-flex\"><!-- --><p _ngcontent-sc40=\"\" class=\"app-tooltip\"><!-- --><!-- --> Pris er faldet <!-- --><!-- --></p><!-- --></app-tooltip> 2.400.000 kr. </div>,\n",
       " <div _ngcontent-sc52=\"\" class=\"primary-value d-flex justify-content-end\"><app-tooltip _ngcontent-sc52=\"\" _nghost-sc40=\"\" class=\"ml-2 md-right d-flex\"><!-- --><p _ngcontent-sc40=\"\" class=\"app-tooltip\"><!-- --><!-- --> Pris er faldet <!-- --><!-- --></p><!-- --><app-badge _ngcontent-sc52=\"\" _nghost-sc15=\"\" aria-describedby=\"cdk-describedby-message-457594\" cdk-describedby-host=\"\" class=\"px-3\"><span _ngcontent-sc15=\"\" class=\"badge secondary small\"> -2% </span></app-badge><!-- --></app-tooltip> 2.445.000 kr. </div>,\n",
       " <div _ngcontent-sc52=\"\" class=\"primary-value d-flex justify-content-end\"><app-tooltip _ngcontent-sc52=\"\" _nghost-sc40=\"\" class=\"ml-2 md-right d-flex\"><!-- --><p _ngcontent-sc40=\"\" class=\"app-tooltip\"><!-- --><!-- --> Pris er faldet <!-- --><!-- --></p><!-- --><app-badge _ngcontent-sc52=\"\" _nghost-sc15=\"\" aria-describedby=\"cdk-describedby-message-457594\" cdk-describedby-host=\"\" class=\"px-3\"><span _ngcontent-sc15=\"\" class=\"badge secondary small\"> -2% </span></app-badge><!-- --></app-tooltip> 2.445.000 kr. </div>,\n",
       " <div _ngcontent-sc52=\"\" class=\"primary-value d-flex justify-content-end\"><app-tooltip _ngcontent-sc52=\"\" _nghost-sc40=\"\" class=\"ml-2 md-right d-flex\"><!-- --><p _ngcontent-sc40=\"\" class=\"app-tooltip\"><!-- --><!-- --> Pris er faldet <!-- --><!-- --></p><!-- --></app-tooltip> 2.450.000 kr. </div>,\n",
       " <div _ngcontent-sc52=\"\" class=\"primary-value d-flex justify-content-end\"><app-tooltip _ngcontent-sc52=\"\" _nghost-sc40=\"\" class=\"ml-2 md-right d-flex\"><!-- --><p _ngcontent-sc40=\"\" class=\"app-tooltip\"><!-- --><!-- --> Pris er faldet <!-- --><!-- --></p><!-- --></app-tooltip> 2.495.000 kr. </div>,\n",
       " <div _ngcontent-sc52=\"\" class=\"primary-value d-flex justify-content-end\"><app-tooltip _ngcontent-sc52=\"\" _nghost-sc40=\"\" class=\"ml-2 md-right d-flex\"><!-- --><p _ngcontent-sc40=\"\" class=\"app-tooltip\"><!-- --><!-- --> Pris er faldet <!-- --><!-- --></p><!-- --></app-tooltip> 2.495.000 kr. </div>,\n",
       " <div _ngcontent-sc52=\"\" class=\"primary-value d-flex justify-content-end\"><app-tooltip _ngcontent-sc52=\"\" _nghost-sc40=\"\" class=\"ml-2 md-right d-flex\"><!-- --><p _ngcontent-sc40=\"\" class=\"app-tooltip\"><!-- --><!-- --> Pris er faldet <!-- --><!-- --></p><!-- --></app-tooltip> 2.495.000 kr. </div>,\n",
       " <div _ngcontent-sc52=\"\" class=\"primary-value d-flex justify-content-end\"><app-tooltip _ngcontent-sc52=\"\" _nghost-sc40=\"\" class=\"ml-2 md-right d-flex\"><!-- --><p _ngcontent-sc40=\"\" class=\"app-tooltip\"><!-- --><!-- --> Pris er faldet <!-- --><!-- --></p><!-- --></app-tooltip> 2.595.000 kr. </div>,\n",
       " <div _ngcontent-sc52=\"\" class=\"primary-value d-flex justify-content-end\"><app-tooltip _ngcontent-sc52=\"\" _nghost-sc40=\"\" class=\"ml-2 md-right d-flex\"><!-- --><p _ngcontent-sc40=\"\" class=\"app-tooltip\"><!-- --><!-- --> Pris er faldet <!-- --><!-- --></p><!-- --></app-tooltip> 2.625.000 kr. </div>,\n",
       " <div _ngcontent-sc52=\"\" class=\"primary-value d-flex justify-content-end\"><app-tooltip _ngcontent-sc52=\"\" _nghost-sc40=\"\" class=\"ml-2 md-right d-flex\"><!-- --><p _ngcontent-sc40=\"\" class=\"app-tooltip\"><!-- --><!-- --> Pris er faldet <!-- --><!-- --></p><!-- --></app-tooltip> 2.635.000 kr. </div>]"
      ]
     },
     "execution_count": 17,
     "metadata": {},
     "output_type": "execute_result"
    }
   ],
   "source": [
    "#I found something attached to every price - a class instead of an id!\n",
    "#However, only class_ instead of class works here in python and we therefore find it like this:\n",
    "soup2.find_all(class_=\"primary-value d-flex justify-content-end\")"
   ]
  },
  {
   "cell_type": "code",
   "execution_count": null,
   "metadata": {},
   "outputs": [],
   "source": []
  },
  {
   "cell_type": "code",
   "execution_count": 18,
   "metadata": {},
   "outputs": [],
   "source": [
    "#VI DROPPER FUNKTIONER\n",
    "import re\n",
    "Prices=soup2.find_all(class_=\"primary-value d-flex justify-content-end\")\n",
    "Prices_list=[]\n",
    "for element in Prices:\n",
    "    Prices_list.append(element)\n",
    "    #for at gøre den mere samarbejdsvillig som liste\n",
    "#I've changed my mind - it's better to use this as a string in order to use findall() later\n",
    "#(which is only available to strings)\n",
    "pricestring=str(Prices_list)"
   ]
  },
  {
   "cell_type": "code",
   "execution_count": 46,
   "metadata": {},
   "outputs": [],
   "source": [
    "#Defining the object we want to find with the re-module:\n",
    "#which is a whitespace+one number (only for things below 10 mio+dot+numbers+dot+numbers\n",
    "number=re.compile(\"(\\s\\d+?.\\d+\\.\\d+)\")\n",
    "numbershort=re.compile(\"(\\s\\d+?.\\d+)\")"
   ]
  },
  {
   "cell_type": "code",
   "execution_count": 47,
   "metadata": {},
   "outputs": [],
   "source": [
    "clean_prices=numbershort.findall(pricestring)"
   ]
  },
  {
   "cell_type": "code",
   "execution_count": 48,
   "metadata": {},
   "outputs": [
    {
     "data": {
      "text/plain": [
       "52"
      ]
     },
     "execution_count": 48,
     "metadata": {},
     "output_type": "execute_result"
    }
   ],
   "source": [
    "boligprisliste=numbershort.findall(pricestring)\n",
    "len(boligprisliste)\n",
    "#length of boligprisliste is 52"
   ]
  },
  {
   "cell_type": "code",
   "execution_count": 49,
   "metadata": {},
   "outputs": [],
   "source": [
    "#WE FINALLY HAVE THE PRICESSSSS IN A LIST - no function necessary!"
   ]
  },
  {
   "cell_type": "code",
   "execution_count": 50,
   "metadata": {},
   "outputs": [],
   "source": [
    "#Nu til kvadratmeter:\n",
    "#find_all(\"div\"[13]) måske\n",
    "#<span _ngcontent-boliga-app-c46=\"\" class=\"text-nowrap\">47 m²</span>"
   ]
  },
  {
   "cell_type": "code",
   "execution_count": 51,
   "metadata": {},
   "outputs": [],
   "source": [
    "import re\n",
    "collectionscrap=soup2.find_all(\"app-house-details\")\n",
    "meters=re.compile(\"\\d+\\s\")\n",
    "#so now, after defining the stuff, lets take the specific details for meters in to a list"
   ]
  },
  {
   "cell_type": "code",
   "execution_count": 52,
   "metadata": {},
   "outputs": [],
   "source": [
    "meterliste=[]\n",
    "for element in collectionscrap:\n",
    "    meterliste.append(element.find_all(\"span\")[1])\n",
    "meterstring=str(meterliste)"
   ]
  },
  {
   "cell_type": "code",
   "execution_count": 53,
   "metadata": {},
   "outputs": [],
   "source": [
    "#this provides us with a very neat but not just number-based list, we'll change it like this:\n",
    "clean_meters=meters.findall(meterstring)"
   ]
  },
  {
   "cell_type": "code",
   "execution_count": 54,
   "metadata": {},
   "outputs": [
    {
     "data": {
      "text/plain": [
       "52"
      ]
     },
     "execution_count": 54,
     "metadata": {},
     "output_type": "execute_result"
    }
   ],
   "source": [
    "len(clean_meters)\n",
    "#.. the lenghts match <3 thank goodness"
   ]
  },
  {
   "cell_type": "code",
   "execution_count": 55,
   "metadata": {},
   "outputs": [],
   "source": [
    "y=[]\n",
    "x=[]\n",
    "for element in clean_meters:\n",
    "    yel=int(element)\n",
    "    y.append(yel)\n",
    "for element in clean_prices:\n",
    "    xyel=float(element)\n",
    "    x.append(xyel)\n",
    "    #in order to convert them to numbers, I have divided the mios with 1000\n",
    "    #(in theory - in reality, I have just found small pieces of string)"
   ]
  },
  {
   "cell_type": "code",
   "execution_count": 58,
   "metadata": {},
   "outputs": [],
   "source": [
    "price_meter=zip(y,x)"
   ]
  },
  {
   "cell_type": "code",
   "execution_count": 59,
   "metadata": {},
   "outputs": [
    {
     "data": {
      "text/plain": [
       "[(60, 2.495),\n",
       " (191, 8.3),\n",
       " (32, 1.345),\n",
       " (29, 1.398),\n",
       " (47, 1.445),\n",
       " (44, 1.495),\n",
       " (44, 1.495),\n",
       " (37, 1.495),\n",
       " (44, 1.575),\n",
       " (51, 1.595),\n",
       " (46, 1.595),\n",
       " (44, 1.75),\n",
       " (43, 1.75),\n",
       " (52, 1.795),\n",
       " (53, 1.795),\n",
       " (44, 1.795),\n",
       " (43, 1.795),\n",
       " (47, 1.845),\n",
       " (44, 1.895),\n",
       " (53, 1.895),\n",
       " (55, 1.898),\n",
       " (42, 1.898),\n",
       " (42, 1.975),\n",
       " (58, 1.995),\n",
       " (45, 1.999),\n",
       " (52, 2.045),\n",
       " (50, 2.095),\n",
       " (43, 2.099),\n",
       " (54, 2.145),\n",
       " (66, 2.198),\n",
       " (52, 2.199),\n",
       " (56, 2.248),\n",
       " (59, 2.295),\n",
       " (49, 2.295),\n",
       " (59, 2.295),\n",
       " (47, 2.298),\n",
       " (73, 2.299),\n",
       " (53, 2.345),\n",
       " (55, 2.345),\n",
       " (56, 2.395),\n",
       " (54, 2.395),\n",
       " (61, 2.395),\n",
       " (47, 2.4),\n",
       " (58, 2.445),\n",
       " (53, 2.445),\n",
       " (44, 2.45),\n",
       " (57, 2.495),\n",
       " (60, 2.495),\n",
       " (58, 2.495),\n",
       " (46, 2.595),\n",
       " (61, 2.625),\n",
       " (48, 2.635)]"
      ]
     },
     "execution_count": 59,
     "metadata": {},
     "output_type": "execute_result"
    }
   ],
   "source": [
    "list(price_meter)"
   ]
  },
  {
   "cell_type": "code",
   "execution_count": null,
   "metadata": {},
   "outputs": [],
   "source": []
  },
  {
   "cell_type": "markdown",
   "metadata": {},
   "source": [
    "> **Ex. 6:** Make a scatter plot of square meter size vs. extracted price. Then make a new variable that \n",
    "measures price per square meter and scatter plot this against \"Ejerudgift\". Can you say anything about how\n",
    "\"Ejerudgift\" influences square meter price?"
   ]
  },
  {
   "cell_type": "code",
   "execution_count": null,
   "metadata": {},
   "outputs": [],
   "source": []
  },
  {
   "cell_type": "code",
   "execution_count": null,
   "metadata": {},
   "outputs": [],
   "source": []
  },
  {
   "cell_type": "markdown",
   "metadata": {},
   "source": [
    "> **Supercharge:** Crawl over pages of Boliga to collect this data for the entire borough of Nørrebro. Or all of Copenhagen!"
   ]
  }
 ],
 "metadata": {
  "display_name": "Python 3",
  "kernelspec": {
   "display_name": "Python 3",
   "language": "python",
   "name": "python3"
  },
  "language_info": {
   "codemirror_mode": {
    "name": "ipython",
    "version": 3
   },
   "file_extension": ".py",
   "mimetype": "text/x-python",
   "name": "python",
   "nbconvert_exporter": "python",
   "pygments_lexer": "ipython3",
   "version": "3.7.4"
  },
  "toc": {
   "base_numbering": 1,
   "nav_menu": {},
   "number_sections": false,
   "sideBar": true,
   "skip_h1_title": false,
   "title_cell": "Table of Contents",
   "title_sidebar": "Contents",
   "toc_cell": false,
   "toc_position": {},
   "toc_section_display": true,
   "toc_window_display": true
  },
  "varInspector": {
   "cols": {
    "lenName": 16,
    "lenType": 16,
    "lenVar": 40
   },
   "kernels_config": {
    "python": {
     "delete_cmd_postfix": "",
     "delete_cmd_prefix": "del ",
     "library": "var_list.py",
     "varRefreshCmd": "print(var_dic_list())"
    },
    "r": {
     "delete_cmd_postfix": ") ",
     "delete_cmd_prefix": "rm(",
     "library": "var_list.r",
     "varRefreshCmd": "cat(var_dic_list()) "
    }
   },
   "types_to_exclude": [
    "module",
    "function",
    "builtin_function_or_method",
    "instance",
    "_Feature"
   ],
   "window_display": false
  }
 },
 "nbformat": 4,
 "nbformat_minor": 1
}
